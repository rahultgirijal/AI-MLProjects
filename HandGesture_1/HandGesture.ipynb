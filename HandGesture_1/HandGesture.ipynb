{
 "cells": [
  {
   "cell_type": "markdown",
   "metadata": {},
   "source": [
    "# Gesture Recognition\n",
    "In this group project, you are going to build a 3D Conv model that will be able to predict the 5 gestures correctly. Please import the following libraries to get started."
   ]
  },
  {
   "cell_type": "code",
   "execution_count": 1,
   "metadata": {},
   "outputs": [],
   "source": [
    "import numpy as np\n",
    "import os\n",
    "import datetime\n",
    "#import cv2\n",
    "def imread(path):\n",
    "    from PIL import Image\n",
    "    return np.array(Image.open(path))\n",
    "\n",
    "def imresize(img, size):\n",
    "    from PIL import Image\n",
    "    return np.array(Image.fromarray(img).resize(size))"
   ]
  },
  {
   "cell_type": "markdown",
   "metadata": {},
   "source": [
    "### Note :\"from scipy.misc import imread, imresize\" is been depreciated and thus using alternative defination."
   ]
  },
  {
   "cell_type": "markdown",
   "metadata": {},
   "source": [
    "We set the random seed so that the results don't vary drastically."
   ]
  },
  {
   "cell_type": "code",
   "execution_count": 2,
   "metadata": {},
   "outputs": [],
   "source": [
    "np.random.seed(30)\n",
    "import random as rn\n",
    "rn.seed(30)\n",
    "import tensorflow as tf\n",
    "tf.random.set_seed(30)"
   ]
  },
  {
   "cell_type": "markdown",
   "metadata": {},
   "source": [
    "### Note : \"set_random_seed\" has been depreciated and thus using \"random.set_seed\"."
   ]
  },
  {
   "cell_type": "markdown",
   "metadata": {},
   "source": [
    "In this block, you read the folder names for training and validation. You also set the `batch_size` here. Note that you set the batch size in such a way that you are able to use the GPU in full capacity. You keep increasing the batch size until the machine throws an error."
   ]
  },
  {
   "cell_type": "code",
   "execution_count": 3,
   "metadata": {},
   "outputs": [],
   "source": [
    "train_doc = np.random.permutation(open('Project_data/train.csv').readlines())\n",
    "val_doc = np.random.permutation(open('Project_data/val.csv').readlines())\n",
    "batch_size = 80 #experiment with the batch size"
   ]
  },
  {
   "cell_type": "markdown",
   "metadata": {},
   "source": [
    "## Generator\n",
    "This is one of the most important part of the code. The overall structure of the generator has been given. In the generator, you are going to preprocess the images as you have images of 2 different dimensions as well as create a batch of video frames. You have to experiment with `img_idx`, `y`,`z` and normalization such that you get high accuracy."
   ]
  },
  {
   "cell_type": "code",
   "execution_count": 4,
   "metadata": {},
   "outputs": [],
   "source": [
    "def generator(source_path, folder_list, batch_size):\n",
    "    print( 'Source path = ', source_path, '; batch size =', batch_size)\n",
    "    img_idx =[i*2 for i in range(15)]  #create a list of image numbers you want to use for a particular video\n",
    "    x = len(img_idx) #Number of images in a sequence.\n",
    "    y = 64 #Height of image\n",
    "    z = 64 #Width of image\n",
    "    while True:\n",
    "        t = np.random.permutation(folder_list)\n",
    "        num_batches = int(len(t)/batch_size) # calculate the number of batches\n",
    "        for batch in range(num_batches): # we iterate over the number of batches\n",
    "            batch_data = np.zeros((batch_size,x,y,z,3)) # x is the number of images you use for each video, (y,z) is the final size of the input images and 3 is the number of channels RGB\n",
    "            batch_labels = np.zeros((batch_size,5)) # batch_labels is the one hot representation of the output\n",
    "            for folder in range(batch_size): # iterate over the batch_size\n",
    "                imgs = os.listdir(source_path+'/'+ t[folder + (batch*batch_size)].split(';')[0]) # read all the images in the folder\n",
    "                for idx,item in enumerate(img_idx): #  Iterate iver the frames/images of a folder to read them in\n",
    "                    image = imread(source_path+'/'+ t[folder + (batch*batch_size)].strip().split(';')[0]+'/'+imgs[item])\n",
    "                    \n",
    "                    #crop the images and resize them. Note that the images are of 2 different shape \n",
    "                    #and the conv3D will throw error if the inputs in a batch have different shapes\n",
    "                    if image.shape[1] == 160:\n",
    "                        #Adjusting the width to 120 \n",
    "                        image = imresize(image[:,20:140,:], (y,z)).astype(np.float32)\n",
    "                    else:\n",
    "                        image = imresize(image, (y,z)).astype(np.float32)\n",
    "                    #Normalising using mean value of image.\n",
    "                    batch_data[folder,idx,:,:,0] = image[:,:,0]/255 #normalise and feed in the image\n",
    "                    batch_data[folder,idx,:,:,1] = image[:,:,1]/255 #normalise and feed in the image\n",
    "                    batch_data[folder,idx,:,:,2] = image[:,:,2]/255 #normalise and feed in the image \n",
    "                    \n",
    "                batch_labels[folder, int(t[folder + (batch*batch_size)].strip().split(';')[2])] = 1\n",
    "            yield batch_data, batch_labels #you yield the batch_data and the batch_labels, remember what does yield do\n",
    "\n",
    "        \n",
    "        # write the code for the remaining data points which are left after full batches\n",
    "        if (len(t)%batch_size) != 0:\n",
    "            batch_data = np.zeros((len(t)%batch_size,x,y,z,3))\n",
    "            batch_labels = np.zeros((len(t)%batch_size,5))\n",
    "            for folder in range(len(t)%batch_size):\n",
    "                imgs = os.listdir(source_path+'/'+ t[folder + (num_batches*batch_size)].split(';')[0])\n",
    "                for idx,item in enumerate(img_idx):\n",
    "                    image = imread(source_path+'/'+ t[folder + (num_batches*batch_size)].strip().split(';')[0]+'/'+imgs[item])\n",
    "                    \n",
    "                    if image.shape[1] == 160:\n",
    "                        #Adjusting the width to 120 \n",
    "                        image = imresize(image[:,20:140,:], (y,z)).astype(np.float32)\n",
    "                    else:\n",
    "                        image = imresize(image, (y,z)).astype(np.float32)\n",
    "  \n",
    "                    batch_data[folder,idx,:,:,0] = image[:,:,0]/255 #normalise and feed in the image\n",
    "                    batch_data[folder,idx,:,:,1] = image[:,:,1]/255 #normalise and feed in the image\n",
    "                    batch_data[folder,idx,:,:,2] = image[:,:,2]/255 #normalise and feed in the image\n",
    "                    \n",
    "                batch_labels[folder, int(t[folder + (num_batches*batch_size)].strip().split(';')[2])] = 1\n",
    "\n",
    "            yield batch_data, batch_labels"
   ]
  },
  {
   "cell_type": "markdown",
   "metadata": {},
   "source": [
    "Note here that a video is represented above in the generator as (number of images, height, width, number of channels). Take this into consideration while creating the model architecture."
   ]
  },
  {
   "cell_type": "code",
   "execution_count": 5,
   "metadata": {},
   "outputs": [
    {
     "name": "stdout",
     "output_type": "stream",
     "text": [
      "# training sequences = 663\n",
      "# validation sequences = 100\n",
      "# epochs = 35\n"
     ]
    }
   ],
   "source": [
    "curr_dt_time = datetime.datetime.now()\n",
    "train_path = 'Project_data/train'\n",
    "val_path = 'Project_data/val'\n",
    "num_train_sequences = len(train_doc)\n",
    "print('# training sequences =', num_train_sequences)\n",
    "num_val_sequences = len(val_doc)\n",
    "print('# validation sequences =', num_val_sequences)\n",
    "num_epochs =35 # choose the number of epochs\n",
    "print ('# epochs =', num_epochs)"
   ]
  },
  {
   "cell_type": "markdown",
   "metadata": {},
   "source": [
    "## Model\n",
    "Here you make the model using different functionalities that Keras provides. Remember to use `Conv3D` and `MaxPooling3D` and not `Conv2D` and `Maxpooling2D` for a 3D convolution model. You would want to use `TimeDistributed` while building a Conv2D + RNN model. Also remember that the last layer is the softmax. Design the network in such a way that the model is able to give good accuracy on the least number of parameters so that it can fit in the memory of the webcam."
   ]
  },
  {
   "cell_type": "markdown",
   "metadata": {},
   "source": [
    "### Model 1 (Conv3D):"
   ]
  },
  {
   "cell_type": "code",
   "execution_count": 6,
   "metadata": {},
   "outputs": [],
   "source": [
    "from tensorflow.keras.models import Sequential, Model\n",
    "from tensorflow.keras.layers import Dense, GRU, Flatten, TimeDistributed, Flatten, BatchNormalization, Activation,Dropout\n",
    "from tensorflow.keras.layers import Conv3D, MaxPooling3D\n",
    "from tensorflow.keras.callbacks import ModelCheckpoint, ReduceLROnPlateau\n",
    "from tensorflow.keras import optimizers\n",
    "\n",
    "#write your model here\n",
    "#Updation in Generator as well\n",
    "x = 15  #Updation in Generator as well\n",
    "y = 64\n",
    "z = 64 \n",
    "\n",
    "#Input layer\n",
    "model = Sequential()\n",
    "model.add(Conv3D(64, (3,3,3), strides=(1,1,1), padding='same', input_shape=(x,y,z,3),activation='relu'))\n",
    "model.add(BatchNormalization())\n",
    "model.add(MaxPooling3D(pool_size=(2,2,2), strides=(2,2,2)))\n",
    "\n",
    "#Hidden Layer\n",
    "model.add(Conv3D(128, (3,3,3), strides=(1,1,1), padding='same',activation='relu'))\n",
    "model.add(BatchNormalization())\n",
    "model.add(MaxPooling3D(pool_size=(2,2,2), strides=(2,2,2)))\n",
    "\n",
    "# model.add(Dropout(0.25))\n",
    "\n",
    "model.add(Conv3D(256, (3,3,3), strides=(1,1,1), padding='same',activation='relu'))\n",
    "model.add(BatchNormalization())\n",
    "\n",
    "# model.add(Dropout(0.25))\n",
    "\n",
    "model.add(Conv3D(256, (3,3,3), strides=(1,1,1), padding='same',activation='relu'))\n",
    "model.add(BatchNormalization())\n",
    "model.add(MaxPooling3D(pool_size=(2,2,2), strides=(2,2,2)))\n",
    "\n",
    "#Dense and output layer.\n",
    "model.add(Flatten())\n",
    "model.add(Dropout(0.5))\n",
    "model.add(Dense(512, activation='relu'))\n",
    "model.add(Dropout(0.5))\n",
    "model.add(Dense(5, activation='softmax'))"
   ]
  },
  {
   "cell_type": "markdown",
   "metadata": {},
   "source": [
    "Now that you have written the model, the next step is to `compile` the model. When you print the `summary` of the model, you'll see the total number of parameters you have to train."
   ]
  },
  {
   "cell_type": "code",
   "execution_count": 7,
   "metadata": {
    "scrolled": true
   },
   "outputs": [
    {
     "name": "stdout",
     "output_type": "stream",
     "text": [
      "Model: \"sequential\"\n",
      "_________________________________________________________________\n",
      "Layer (type)                 Output Shape              Param #   \n",
      "=================================================================\n",
      "conv3d (Conv3D)              (None, 15, 64, 64, 64)    5248      \n",
      "_________________________________________________________________\n",
      "batch_normalization (BatchNo (None, 15, 64, 64, 64)    256       \n",
      "_________________________________________________________________\n",
      "max_pooling3d (MaxPooling3D) (None, 7, 32, 32, 64)     0         \n",
      "_________________________________________________________________\n",
      "conv3d_1 (Conv3D)            (None, 7, 32, 32, 128)    221312    \n",
      "_________________________________________________________________\n",
      "batch_normalization_1 (Batch (None, 7, 32, 32, 128)    512       \n",
      "_________________________________________________________________\n",
      "max_pooling3d_1 (MaxPooling3 (None, 3, 16, 16, 128)    0         \n",
      "_________________________________________________________________\n",
      "conv3d_2 (Conv3D)            (None, 3, 16, 16, 256)    884992    \n",
      "_________________________________________________________________\n",
      "batch_normalization_2 (Batch (None, 3, 16, 16, 256)    1024      \n",
      "_________________________________________________________________\n",
      "conv3d_3 (Conv3D)            (None, 3, 16, 16, 256)    1769728   \n",
      "_________________________________________________________________\n",
      "batch_normalization_3 (Batch (None, 3, 16, 16, 256)    1024      \n",
      "_________________________________________________________________\n",
      "max_pooling3d_2 (MaxPooling3 (None, 1, 8, 8, 256)      0         \n",
      "_________________________________________________________________\n",
      "flatten (Flatten)            (None, 16384)             0         \n",
      "_________________________________________________________________\n",
      "dropout (Dropout)            (None, 16384)             0         \n",
      "_________________________________________________________________\n",
      "dense (Dense)                (None, 512)               8389120   \n",
      "_________________________________________________________________\n",
      "dropout_1 (Dropout)          (None, 512)               0         \n",
      "_________________________________________________________________\n",
      "dense_1 (Dense)              (None, 5)                 2565      \n",
      "=================================================================\n",
      "Total params: 11,275,781\n",
      "Trainable params: 11,274,373\n",
      "Non-trainable params: 1,408\n",
      "_________________________________________________________________\n",
      "None\n"
     ]
    }
   ],
   "source": [
    "optimiser =  optimizers.SGD(learning_rate=0.01, decay=1e-5, momentum=0.7, nesterov=True) #write your optimizer\n",
    "model.compile(optimizer=optimiser, loss='categorical_crossentropy', metrics=['categorical_accuracy'])\n",
    "print (model.summary())"
   ]
  },
  {
   "cell_type": "markdown",
   "metadata": {},
   "source": [
    "Let us create the `train_generator` and the `val_generator` which will be used in `.fit_generator`."
   ]
  },
  {
   "cell_type": "code",
   "execution_count": 8,
   "metadata": {},
   "outputs": [],
   "source": [
    "train_generator = generator(train_path, train_doc, batch_size)\n",
    "val_generator = generator(val_path, val_doc, batch_size)"
   ]
  },
  {
   "cell_type": "code",
   "execution_count": 9,
   "metadata": {},
   "outputs": [],
   "source": [
    "model_name = 'model_init' + '_' + str(curr_dt_time).replace(' ','').replace(':','_') + '/'\n",
    "    \n",
    "if not os.path.exists(model_name):\n",
    "    os.mkdir(model_name)\n",
    "        \n",
    "filepath = model_name + 'model-{epoch:05d}-{loss:.5f}-{categorical_accuracy:.5f}-{val_loss:.5f}-{val_categorical_accuracy:.5f}.h5'\n",
    "\n",
    "#Updating checkpoint only for best model because of space constraints.\n",
    "#checkpoint = ModelCheckpoint(filepath, monitor='val_loss', verbose=1, save_best_only=False, save_weights_only=False, mode='auto', period=1)\n",
    "\n",
    "LR = ReduceLROnPlateau(monitor='val_loss', factor=0.1, patience=2, verbose=1, mode='min', min_delta=0.0001, cooldown=0, min_lr=0.00001) # write the REducelronplateau code here\n",
    "#callbacks_list = [checkpoint, LR]\n",
    "callbacks_list = [LR]"
   ]
  },
  {
   "cell_type": "markdown",
   "metadata": {},
   "source": [
    "The `steps_per_epoch` and `validation_steps` are used by `fit_generator` to decide the number of next() calls it need to make."
   ]
  },
  {
   "cell_type": "code",
   "execution_count": 10,
   "metadata": {},
   "outputs": [],
   "source": [
    "if (num_train_sequences%batch_size) == 0:\n",
    "    steps_per_epoch = int(num_train_sequences/batch_size)\n",
    "else:\n",
    "    steps_per_epoch = (num_train_sequences//batch_size) + 1\n",
    "\n",
    "if (num_val_sequences%batch_size) == 0:\n",
    "    validation_steps = int(num_val_sequences/batch_size)\n",
    "else:\n",
    "    validation_steps = (num_val_sequences//batch_size) + 1"
   ]
  },
  {
   "cell_type": "markdown",
   "metadata": {},
   "source": [
    "Let us now fit the model. This will start training the model and with the help of the checkpoints, you'll be able to save the model at the end of each epoch."
   ]
  },
  {
   "cell_type": "code",
   "execution_count": 11,
   "metadata": {},
   "outputs": [
    {
     "name": "stdout",
     "output_type": "stream",
     "text": [
      "Source path =  Project_data/train ; batch size = 80\n"
     ]
    },
    {
     "name": "stderr",
     "output_type": "stream",
     "text": [
      "/mnt/disks/user/anaconda3/envs/cuda101/lib/python3.8/site-packages/tensorflow/python/keras/engine/training.py:1844: UserWarning: `Model.fit_generator` is deprecated and will be removed in a future version. Please use `Model.fit`, which supports generators.\n",
      "  warnings.warn('`Model.fit_generator` is deprecated and '\n"
     ]
    },
    {
     "name": "stdout",
     "output_type": "stream",
     "text": [
      "Epoch 1/35\n",
      "9/9 [==============================] - ETA: 0s - loss: 14.2824 - categorical_accuracy: 0.2499Source path =  Project_data/val ; batch size = 80\n",
      "9/9 [==============================] - 50s 5s/step - loss: 14.0131 - categorical_accuracy: 0.2533 - val_loss: 187.3964 - val_categorical_accuracy: 0.2300\n",
      "Epoch 2/35\n",
      "9/9 [==============================] - 34s 4s/step - loss: 1.6063 - categorical_accuracy: 0.3915 - val_loss: 66.9968 - val_categorical_accuracy: 0.2200\n",
      "Epoch 3/35\n",
      "9/9 [==============================] - 36s 4s/step - loss: 1.2371 - categorical_accuracy: 0.5138 - val_loss: 35.0724 - val_categorical_accuracy: 0.2300\n",
      "Epoch 4/35\n",
      "9/9 [==============================] - 33s 4s/step - loss: 1.0150 - categorical_accuracy: 0.6026 - val_loss: 25.5914 - val_categorical_accuracy: 0.2500\n",
      "Epoch 5/35\n",
      "9/9 [==============================] - 36s 4s/step - loss: 0.8847 - categorical_accuracy: 0.6254 - val_loss: 17.3618 - val_categorical_accuracy: 0.2300\n",
      "Epoch 6/35\n",
      "9/9 [==============================] - 33s 4s/step - loss: 0.8925 - categorical_accuracy: 0.6610 - val_loss: 12.1277 - val_categorical_accuracy: 0.1800\n",
      "Epoch 7/35\n",
      "9/9 [==============================] - 36s 4s/step - loss: 0.8144 - categorical_accuracy: 0.6598 - val_loss: 6.8198 - val_categorical_accuracy: 0.2200\n",
      "Epoch 8/35\n",
      "9/9 [==============================] - 34s 4s/step - loss: 0.7266 - categorical_accuracy: 0.6997 - val_loss: 2.6337 - val_categorical_accuracy: 0.2900\n",
      "Epoch 9/35\n",
      "9/9 [==============================] - 36s 4s/step - loss: 0.6908 - categorical_accuracy: 0.7223 - val_loss: 3.2478 - val_categorical_accuracy: 0.2500\n",
      "Epoch 10/35\n",
      "9/9 [==============================] - 34s 4s/step - loss: 0.6449 - categorical_accuracy: 0.7268 - val_loss: 2.7293 - val_categorical_accuracy: 0.2300\n",
      "\n",
      "Epoch 00010: ReduceLROnPlateau reducing learning rate to 0.0009999999776482583.\n",
      "Epoch 11/35\n",
      "9/9 [==============================] - 36s 4s/step - loss: 0.6264 - categorical_accuracy: 0.7413 - val_loss: 2.4667 - val_categorical_accuracy: 0.3000\n",
      "Epoch 12/35\n",
      "9/9 [==============================] - 34s 4s/step - loss: 0.6348 - categorical_accuracy: 0.7153 - val_loss: 2.2158 - val_categorical_accuracy: 0.2200\n",
      "Epoch 13/35\n",
      "9/9 [==============================] - 36s 4s/step - loss: 0.5649 - categorical_accuracy: 0.7572 - val_loss: 1.8891 - val_categorical_accuracy: 0.3100\n",
      "Epoch 14/35\n",
      "9/9 [==============================] - 34s 4s/step - loss: 0.5553 - categorical_accuracy: 0.7622 - val_loss: 1.7784 - val_categorical_accuracy: 0.3000\n",
      "Epoch 15/35\n",
      "9/9 [==============================] - 36s 4s/step - loss: 0.5575 - categorical_accuracy: 0.7860 - val_loss: 1.6908 - val_categorical_accuracy: 0.3600\n",
      "Epoch 16/35\n",
      "9/9 [==============================] - 34s 4s/step - loss: 0.5032 - categorical_accuracy: 0.8058 - val_loss: 1.8306 - val_categorical_accuracy: 0.3700\n",
      "Epoch 17/35\n",
      "9/9 [==============================] - 36s 4s/step - loss: 0.4855 - categorical_accuracy: 0.8158 - val_loss: 1.6856 - val_categorical_accuracy: 0.3700\n",
      "Epoch 18/35\n",
      "9/9 [==============================] - 34s 4s/step - loss: 0.4945 - categorical_accuracy: 0.7968 - val_loss: 1.7305 - val_categorical_accuracy: 0.4400\n",
      "Epoch 19/35\n",
      "9/9 [==============================] - 36s 4s/step - loss: 0.4846 - categorical_accuracy: 0.7921 - val_loss: 1.6869 - val_categorical_accuracy: 0.4100\n",
      "\n",
      "Epoch 00019: ReduceLROnPlateau reducing learning rate to 9.999999310821295e-05.\n",
      "Epoch 20/35\n",
      "9/9 [==============================] - 34s 4s/step - loss: 0.4049 - categorical_accuracy: 0.8571 - val_loss: 1.6976 - val_categorical_accuracy: 0.4300\n",
      "Epoch 21/35\n",
      "9/9 [==============================] - 36s 4s/step - loss: 0.4608 - categorical_accuracy: 0.8021 - val_loss: 1.7066 - val_categorical_accuracy: 0.4400\n",
      "\n",
      "Epoch 00021: ReduceLROnPlateau reducing learning rate to 1e-05.\n",
      "Epoch 22/35\n",
      "9/9 [==============================] - 34s 4s/step - loss: 0.4402 - categorical_accuracy: 0.8405 - val_loss: 1.5649 - val_categorical_accuracy: 0.5100\n",
      "Epoch 23/35\n",
      "9/9 [==============================] - 37s 5s/step - loss: 0.4347 - categorical_accuracy: 0.8295 - val_loss: 1.7223 - val_categorical_accuracy: 0.4600\n",
      "Epoch 24/35\n",
      "9/9 [==============================] - 33s 4s/step - loss: 0.5030 - categorical_accuracy: 0.7924 - val_loss: 1.7175 - val_categorical_accuracy: 0.4600\n",
      "Epoch 25/35\n",
      "9/9 [==============================] - 36s 4s/step - loss: 0.4842 - categorical_accuracy: 0.7850 - val_loss: 1.7222 - val_categorical_accuracy: 0.4500\n",
      "Epoch 26/35\n",
      "9/9 [==============================] - 34s 4s/step - loss: 0.4694 - categorical_accuracy: 0.8189 - val_loss: 1.7062 - val_categorical_accuracy: 0.4600\n",
      "Epoch 27/35\n",
      "9/9 [==============================] - 36s 4s/step - loss: 0.4682 - categorical_accuracy: 0.8099 - val_loss: 1.7040 - val_categorical_accuracy: 0.4600\n",
      "Epoch 28/35\n",
      "9/9 [==============================] - 34s 4s/step - loss: 0.4579 - categorical_accuracy: 0.7870 - val_loss: 1.6499 - val_categorical_accuracy: 0.4200\n",
      "Epoch 29/35\n",
      "9/9 [==============================] - 36s 4s/step - loss: 0.4538 - categorical_accuracy: 0.8436 - val_loss: 1.6768 - val_categorical_accuracy: 0.4600\n",
      "Epoch 30/35\n",
      "9/9 [==============================] - 34s 4s/step - loss: 0.4373 - categorical_accuracy: 0.8322 - val_loss: 1.7619 - val_categorical_accuracy: 0.4700\n",
      "Epoch 31/35\n",
      "9/9 [==============================] - 36s 4s/step - loss: 0.4699 - categorical_accuracy: 0.8271 - val_loss: 1.6393 - val_categorical_accuracy: 0.4700\n",
      "Epoch 32/35\n",
      "9/9 [==============================] - 34s 4s/step - loss: 0.4545 - categorical_accuracy: 0.8045 - val_loss: 1.6682 - val_categorical_accuracy: 0.4600\n",
      "Epoch 33/35\n",
      "9/9 [==============================] - 36s 4s/step - loss: 0.4109 - categorical_accuracy: 0.8287 - val_loss: 1.5899 - val_categorical_accuracy: 0.4600\n",
      "Epoch 34/35\n",
      "9/9 [==============================] - 34s 4s/step - loss: 0.4427 - categorical_accuracy: 0.8431 - val_loss: 1.6427 - val_categorical_accuracy: 0.4700\n",
      "Epoch 35/35\n",
      "9/9 [==============================] - 37s 4s/step - loss: 0.4921 - categorical_accuracy: 0.8121 - val_loss: 1.5365 - val_categorical_accuracy: 0.4800\n"
     ]
    }
   ],
   "source": [
    "history = model.fit_generator(train_generator, steps_per_epoch=steps_per_epoch, epochs=num_epochs, verbose=1, \n",
    "                    callbacks=callbacks_list, validation_data=val_generator, \n",
    "                    validation_steps=validation_steps, class_weight=None, workers=1, initial_epoch=0)"
   ]
  },
  {
   "cell_type": "markdown",
   "metadata": {},
   "source": [
    "#### Note :\"model.fit_generator\" is depreciated and  \"model.fit\" supports the generator functionality."
   ]
  },
  {
   "cell_type": "markdown",
   "metadata": {},
   "source": [
    "### Visualizing training results"
   ]
  },
  {
   "cell_type": "code",
   "execution_count": 12,
   "metadata": {},
   "outputs": [
    {
     "data": {
      "image/png": "[encoded data removed]",
      "text/plain": [
       "<Figure size 576x576 with 2 Axes>"
      ]
     },
     "metadata": {
      "needs_background": "light"
     },
     "output_type": "display_data"
    }
   ],
   "source": [
    "import matplotlib.pyplot as plt\n",
    "\n",
    "\n",
    "acc = history.history['categorical_accuracy']\n",
    "val_acc = history.history['val_categorical_accuracy']\n",
    "\n",
    "loss = history.history['loss']\n",
    "val_loss = history.history['val_loss']\n",
    "\n",
    "epochs_range = range(num_epochs)\n",
    "\n",
    "plt.figure(figsize=(8, 8))\n",
    "plt.subplot(1, 2, 1)\n",
    "plt.plot(epochs_range, acc, label='Training Accuracy')\n",
    "plt.plot(epochs_range, val_acc, label='Validation Accuracy')\n",
    "plt.legend(loc='lower right')\n",
    "plt.title('Training and Validation Accuracy')\n",
    "\n",
    "plt.subplot(1, 2, 2)\n",
    "plt.plot(epochs_range, loss, label='Training Loss')\n",
    "plt.plot(epochs_range, val_loss, label='Validation Loss')\n",
    "plt.legend(loc='upper right')\n",
    "plt.title('Training and Validation Loss')\n",
    "plt.show()"
   ]
  },
  {
   "cell_type": "markdown",
   "metadata": {},
   "source": [
    "### Model architecture can be finetuned to improve the accuracy.\n",
    "1. Changing image dimension and image normalisation strategy.\n",
    "2. Changing activation function to Elu.\n",
    "3. Making Batch normalisation before Elu"
   ]
  },
  {
   "cell_type": "code",
   "execution_count": null,
   "metadata": {},
   "outputs": [],
   "source": []
  },
  {
   "cell_type": "markdown",
   "metadata": {},
   "source": [
    "### Model 2 (Conv3D):"
   ]
  },
  {
   "cell_type": "code",
   "execution_count": 13,
   "metadata": {},
   "outputs": [],
   "source": [
    "np.random.seed(30)\n",
    "rn.seed(30)\n",
    "tf.random.set_seed(30)"
   ]
  },
  {
   "cell_type": "code",
   "execution_count": 14,
   "metadata": {},
   "outputs": [],
   "source": [
    "#Batch size\n",
    "batch_size = 70 "
   ]
  },
  {
   "cell_type": "code",
   "execution_count": 15,
   "metadata": {},
   "outputs": [],
   "source": [
    "#Defining generator.\n",
    "def generator_2(source_path, folder_list, batch_size):\n",
    "    print( 'Source path = ', source_path, '; batch size =', batch_size)\n",
    "    img_idx =[i*2 for i in range(15)]  #create a list of image numbers you want to use for a particular video\n",
    "    x = len(img_idx) #Number of images in a sequence.\n",
    "    y = 80 #Height of image\n",
    "    z = 80 #Width of image\n",
    "    while True:\n",
    "        t = np.random.permutation(folder_list)\n",
    "        num_batches = int(len(t)/batch_size) # calculate the number of batches\n",
    "        for batch in range(num_batches): # we iterate over the number of batches\n",
    "            batch_data = np.zeros((batch_size,x,y,z,3)) # x is the number of images you use for each video, (y,z) is the final size of the input images and 3 is the number of channels RGB\n",
    "            batch_labels = np.zeros((batch_size,5)) # batch_labels is the one hot representation of the output\n",
    "            for folder in range(batch_size): # iterate over the batch_size\n",
    "                imgs = os.listdir(source_path+'/'+ t[folder + (batch*batch_size)].split(';')[0]) # read all the images in the folder\n",
    "                for idx,item in enumerate(img_idx): #  Iterate iver the frames/images of a folder to read them in\n",
    "                    image = imread(source_path+'/'+ t[folder + (batch*batch_size)].strip().split(';')[0]+'/'+imgs[item])\n",
    "                    \n",
    "                    #crop the images and resize them. Note that the images are of 2 different shape \n",
    "                    #and the conv3D will throw error if the inputs in a batch have different shapes\n",
    "                    if image.shape[1] == 160:\n",
    "                        #Adjusting the width to 120 \n",
    "                        image = imresize(image[:,20:140,:], (y,z)).astype(np.float32)\n",
    "                    else:\n",
    "                        image = imresize(image, (y,z)).astype(np.float32)\n",
    "                    #Normalising using mean value of image.\n",
    "                    #Mean Red -122 ,Mean Green -113,Mean Blue -108\n",
    "                    batch_data[folder,idx,:,:,0] = image[:,:,0] - 122 #normalise and feed in the image\n",
    "                    batch_data[folder,idx,:,:,1] = image[:,:,1] - 113 #normalise and feed in the image\n",
    "                    batch_data[folder,idx,:,:,2] = image[:,:,2] - 108 #normalise and feed in the image                  \n",
    "                    \n",
    "                batch_labels[folder, int(t[folder + (batch*batch_size)].strip().split(';')[2])] = 1\n",
    "            yield batch_data, batch_labels #you yield the batch_data and the batch_labels, remember what does yield do\n",
    "\n",
    "        \n",
    "        # write the code for the remaining data points which are left after full batches\n",
    "        if (len(t)%batch_size) != 0:\n",
    "            batch_data = np.zeros((len(t)%batch_size,x,y,z,3))\n",
    "            batch_labels = np.zeros((len(t)%batch_size,5))\n",
    "            for folder in range(len(t)%batch_size):\n",
    "                imgs = os.listdir(source_path+'/'+ t[folder + (num_batches*batch_size)].split(';')[0])\n",
    "                for idx,item in enumerate(img_idx):\n",
    "                    image = imread(source_path+'/'+ t[folder + (num_batches*batch_size)].strip().split(';')[0]+'/'+imgs[item])\n",
    "                    \n",
    "                    if image.shape[1] == 160:\n",
    "                        #Adjusting the width to 120 \n",
    "                        image = imresize(image[:,20:140,:], (y,z)).astype(np.float32)\n",
    "                    else:\n",
    "                        image = imresize(image, (y,z)).astype(np.float32)\n",
    "  \n",
    "                    batch_data[folder,idx,:,:,0] = image[:,:,0] - 122  #normalise and feed in the image\n",
    "                    batch_data[folder,idx,:,:,1] = image[:,:,1] - 113  #normalise and feed in the image\n",
    "                    batch_data[folder,idx,:,:,2] = image[:,:,2] - 108  #normalise and feed in the image\n",
    "                    \n",
    "                batch_labels[folder, int(t[folder + (num_batches*batch_size)].strip().split(';')[2])] = 1\n",
    "\n",
    "            yield batch_data, batch_labels"
   ]
  },
  {
   "cell_type": "code",
   "execution_count": 16,
   "metadata": {},
   "outputs": [
    {
     "name": "stdout",
     "output_type": "stream",
     "text": [
      "# epochs = 30\n"
     ]
    }
   ],
   "source": [
    "curr_dt_time = datetime.datetime.now()\n",
    "# choose the number of epochs\n",
    "num_epochs =30 \n",
    "print ('# epochs =', num_epochs)"
   ]
  },
  {
   "cell_type": "code",
   "execution_count": 17,
   "metadata": {},
   "outputs": [],
   "source": [
    "#Model update\n",
    "#Updation in Generator as well\n",
    "x = 15  #Number of images\n",
    "y = 80  #Height of image\n",
    "z = 80  #Width of image\n",
    "\n",
    "#Input layer\n",
    "model2 = Sequential()\n",
    "model2.add(Conv3D(64, (3,3,3), strides=(1,1,1), padding='same', input_shape=(x,y,z,3)))\n",
    "model2.add(BatchNormalization())\n",
    "model2.add(Activation('elu'))\n",
    "model2.add(MaxPooling3D(pool_size=(2,2,2), strides=(2,2,2)))\n",
    "\n",
    "#Hidden layer\n",
    "model2.add(Conv3D(128, (3,3,3), strides=(1,1,1), padding='same'))\n",
    "model2.add(BatchNormalization())\n",
    "model2.add(Activation('elu'))\n",
    "model2.add(MaxPooling3D(pool_size=(2,2,2), strides=(2,2,2)))\n",
    "\n",
    "#model.add(Dropout(0.2))\n",
    "#Hidden layer\n",
    "model2.add(Conv3D(256, (3,3,3), strides=(1,1,1), padding='same'))\n",
    "model2.add(BatchNormalization())\n",
    "model2.add(Activation('elu'))\n",
    "\n",
    "#model.add(Dropout(0.25))\n",
    "#Hidden layer\n",
    "model2.add(Conv3D(256, (3,3,3), strides=(1,1,1), padding='same'))\n",
    "model2.add(BatchNormalization())\n",
    "model2.add(Activation('elu'))\n",
    "model2.add(MaxPooling3D(pool_size=(2,2,2), strides=(2,2,2)))\n",
    "\n",
    "#Dense and output layer.\n",
    "model2.add(Flatten())\n",
    "model2.add(Dropout(0.5))\n",
    "model2.add(Dense(512, activation='elu'))\n",
    "model2.add(Dropout(0.5))\n",
    "model2.add(Dense(5, activation='softmax'))"
   ]
  },
  {
   "cell_type": "code",
   "execution_count": 18,
   "metadata": {
    "scrolled": true
   },
   "outputs": [
    {
     "name": "stdout",
     "output_type": "stream",
     "text": [
      "Model: \"sequential_1\"\n",
      "_________________________________________________________________\n",
      "Layer (type)                 Output Shape              Param #   \n",
      "=================================================================\n",
      "conv3d_4 (Conv3D)            (None, 15, 80, 80, 64)    5248      \n",
      "_________________________________________________________________\n",
      "batch_normalization_4 (Batch (None, 15, 80, 80, 64)    256       \n",
      "_________________________________________________________________\n",
      "activation (Activation)      (None, 15, 80, 80, 64)    0         \n",
      "_________________________________________________________________\n",
      "max_pooling3d_3 (MaxPooling3 (None, 7, 40, 40, 64)     0         \n",
      "_________________________________________________________________\n",
      "conv3d_5 (Conv3D)            (None, 7, 40, 40, 128)    221312    \n",
      "_________________________________________________________________\n",
      "batch_normalization_5 (Batch (None, 7, 40, 40, 128)    512       \n",
      "_________________________________________________________________\n",
      "activation_1 (Activation)    (None, 7, 40, 40, 128)    0         \n",
      "_________________________________________________________________\n",
      "max_pooling3d_4 (MaxPooling3 (None, 3, 20, 20, 128)    0         \n",
      "_________________________________________________________________\n",
      "conv3d_6 (Conv3D)            (None, 3, 20, 20, 256)    884992    \n",
      "_________________________________________________________________\n",
      "batch_normalization_6 (Batch (None, 3, 20, 20, 256)    1024      \n",
      "_________________________________________________________________\n",
      "activation_2 (Activation)    (None, 3, 20, 20, 256)    0         \n",
      "_________________________________________________________________\n",
      "conv3d_7 (Conv3D)            (None, 3, 20, 20, 256)    1769728   \n",
      "_________________________________________________________________\n",
      "batch_normalization_7 (Batch (None, 3, 20, 20, 256)    1024      \n",
      "_________________________________________________________________\n",
      "activation_3 (Activation)    (None, 3, 20, 20, 256)    0         \n",
      "_________________________________________________________________\n",
      "max_pooling3d_5 (MaxPooling3 (None, 1, 10, 10, 256)    0         \n",
      "_________________________________________________________________\n",
      "flatten_1 (Flatten)          (None, 25600)             0         \n",
      "_________________________________________________________________\n",
      "dropout_2 (Dropout)          (None, 25600)             0         \n",
      "_________________________________________________________________\n",
      "dense_2 (Dense)              (None, 512)               13107712  \n",
      "_________________________________________________________________\n",
      "dropout_3 (Dropout)          (None, 512)               0         \n",
      "_________________________________________________________________\n",
      "dense_3 (Dense)              (None, 5)                 2565      \n",
      "=================================================================\n",
      "Total params: 15,994,373\n",
      "Trainable params: 15,992,965\n",
      "Non-trainable params: 1,408\n",
      "_________________________________________________________________\n",
      "None\n"
     ]
    }
   ],
   "source": [
    "optimiser2 =  optimizers.SGD(learning_rate=0.01, decay=1e-5, momentum=0.7, nesterov=True) #write your optimizer\n",
    "model2.compile(optimizer=optimiser2, loss='categorical_crossentropy', metrics=['categorical_accuracy'])\n",
    "print (model2.summary())"
   ]
  },
  {
   "cell_type": "code",
   "execution_count": 19,
   "metadata": {},
   "outputs": [],
   "source": [
    "#generator \n",
    "train_generator = generator_2(train_path, train_doc, batch_size)\n",
    "val_generator = generator_2(val_path, val_doc, batch_size)"
   ]
  },
  {
   "cell_type": "code",
   "execution_count": 20,
   "metadata": {},
   "outputs": [
    {
     "name": "stdout",
     "output_type": "stream",
     "text": [
      "WARNING:tensorflow:`period` argument is deprecated. Please use `save_freq` to specify the frequency in number of batches seen.\n"
     ]
    }
   ],
   "source": [
    "model_name = 'model_init' + '_' + str(curr_dt_time).replace(' ','').replace(':','_') + '/'\n",
    "    \n",
    "if not os.path.exists(model_name):\n",
    "    os.mkdir(model_name)\n",
    "        \n",
    "filepath = model_name + 'model-{epoch:05d}-{loss:.5f}-{categorical_accuracy:.5f}-{val_loss:.5f}-{val_categorical_accuracy:.5f}.h5'\n",
    "\n",
    "#Updating checkpoint only for best model because of space constraints.\n",
    "checkpoint = ModelCheckpoint(filepath, monitor='val_loss', verbose=1, save_best_only=False, save_weights_only=False, mode='auto', period=1)\n",
    "\n",
    "LR = ReduceLROnPlateau(monitor='val_loss', factor=0.1, patience=2, verbose=1, mode='min', min_delta=0.0001, cooldown=0, min_lr=0.00001) # write the REducelronplateau code here\n",
    "callbacks_list = [checkpoint, LR]\n",
    "#callbacks_list = [LR]"
   ]
  },
  {
   "cell_type": "code",
   "execution_count": 21,
   "metadata": {},
   "outputs": [],
   "source": [
    "if (num_train_sequences%batch_size) == 0:\n",
    "    steps_per_epoch = int(num_train_sequences/batch_size)\n",
    "else:\n",
    "    steps_per_epoch = (num_train_sequences//batch_size) + 1\n",
    "\n",
    "if (num_val_sequences%batch_size) == 0:\n",
    "    validation_steps = int(num_val_sequences/batch_size)\n",
    "else:\n",
    "    validation_steps = (num_val_sequences//batch_size) + 1"
   ]
  },
  {
   "cell_type": "code",
   "execution_count": 22,
   "metadata": {},
   "outputs": [
    {
     "name": "stdout",
     "output_type": "stream",
     "text": [
      "Source path =  Project_data/train ; batch size = 70\n"
     ]
    },
    {
     "name": "stderr",
     "output_type": "stream",
     "text": [
      "/mnt/disks/user/anaconda3/envs/cuda101/lib/python3.8/site-packages/tensorflow/python/keras/engine/training.py:1844: UserWarning: `Model.fit_generator` is deprecated and will be removed in a future version. Please use `Model.fit`, which supports generators.\n",
      "  warnings.warn('`Model.fit_generator` is deprecated and '\n"
     ]
    },
    {
     "name": "stdout",
     "output_type": "stream",
     "text": [
      "Epoch 1/30\n",
      "10/10 [==============================] - ETA: 0s - loss: 16.6088 - categorical_accuracy: 0.2134Source path =  Project_data/val ; batch size = 70\n",
      "10/10 [==============================] - 54s 5s/step - loss: 16.2350 - categorical_accuracy: 0.2161 - val_loss: 159.8827 - val_categorical_accuracy: 0.2000\n",
      "\n",
      "Epoch 00001: saving model to model_init_2021-09-1315_22_51.930806/model-00001-12.49715-0.24284-159.88266-0.20000.h5\n",
      "Epoch 2/30\n",
      "10/10 [==============================] - 37s 4s/step - loss: 2.1387 - categorical_accuracy: 0.3958 - val_loss: 55.6696 - val_categorical_accuracy: 0.2600\n",
      "\n",
      "Epoch 00002: saving model to model_init_2021-09-1315_22_51.930806/model-00002-1.92418-0.41478-55.66961-0.26000.h5\n",
      "Epoch 3/30\n",
      "10/10 [==============================] - 39s 4s/step - loss: 1.5864 - categorical_accuracy: 0.4978 - val_loss: 21.4147 - val_categorical_accuracy: 0.3000\n",
      "\n",
      "Epoch 00003: saving model to model_init_2021-09-1315_22_51.930806/model-00003-1.46953-0.49623-21.41467-0.30000.h5\n",
      "Epoch 4/30\n",
      "10/10 [==============================] - 37s 4s/step - loss: 1.5551 - categorical_accuracy: 0.4620 - val_loss: 17.6312 - val_categorical_accuracy: 0.2900\n",
      "\n",
      "Epoch 00004: saving model to model_init_2021-09-1315_22_51.930806/model-00004-1.38914-0.50980-17.63121-0.29000.h5\n",
      "Epoch 5/30\n",
      "10/10 [==============================] - 39s 4s/step - loss: 1.2255 - categorical_accuracy: 0.5522 - val_loss: 12.3120 - val_categorical_accuracy: 0.2900\n",
      "\n",
      "Epoch 00005: saving model to model_init_2021-09-1315_22_51.930806/model-00005-1.19689-0.54449-12.31204-0.29000.h5\n",
      "Epoch 6/30\n",
      "10/10 [==============================] - 37s 4s/step - loss: 1.0926 - categorical_accuracy: 0.5929 - val_loss: 12.0342 - val_categorical_accuracy: 0.2400\n",
      "\n",
      "Epoch 00006: saving model to model_init_2021-09-1315_22_51.930806/model-00006-1.04606-0.61388-12.03419-0.24000.h5\n",
      "Epoch 7/30\n",
      "10/10 [==============================] - 38s 4s/step - loss: 0.8193 - categorical_accuracy: 0.6723 - val_loss: 12.5149 - val_categorical_accuracy: 0.2300\n",
      "\n",
      "Epoch 00007: saving model to model_init_2021-09-1315_22_51.930806/model-00007-0.81094-0.67722-12.51488-0.23000.h5\n",
      "Epoch 8/30\n",
      "10/10 [==============================] - 38s 4s/step - loss: 1.0031 - categorical_accuracy: 0.6630 - val_loss: 3.4823 - val_categorical_accuracy: 0.2700\n",
      "\n",
      "Epoch 00008: saving model to model_init_2021-09-1315_22_51.930806/model-00008-0.89862-0.68627-3.48227-0.27000.h5\n",
      "Epoch 9/30\n",
      "10/10 [==============================] - 39s 4s/step - loss: 0.7279 - categorical_accuracy: 0.7153 - val_loss: 6.3958 - val_categorical_accuracy: 0.2500\n",
      "\n",
      "Epoch 00009: saving model to model_init_2021-09-1315_22_51.930806/model-00009-0.73601-0.71795-6.39583-0.25000.h5\n",
      "Epoch 10/30\n",
      "10/10 [==============================] - 37s 4s/step - loss: 0.6409 - categorical_accuracy: 0.7589 - val_loss: 5.3935 - val_categorical_accuracy: 0.2500\n",
      "\n",
      "Epoch 00010: saving model to model_init_2021-09-1315_22_51.930806/model-00010-0.68407-0.73756-5.39352-0.25000.h5\n",
      "\n",
      "Epoch 00010: ReduceLROnPlateau reducing learning rate to 0.0009999999776482583.\n",
      "Epoch 11/30\n",
      "10/10 [==============================] - 39s 4s/step - loss: 0.6766 - categorical_accuracy: 0.7299 - val_loss: 4.1836 - val_categorical_accuracy: 0.3100\n",
      "\n",
      "Epoch 00011: saving model to model_init_2021-09-1315_22_51.930806/model-00011-0.67887-0.73454-4.18365-0.31000.h5\n",
      "Epoch 12/30\n",
      "10/10 [==============================] - 37s 4s/step - loss: 0.5328 - categorical_accuracy: 0.8060 - val_loss: 3.4296 - val_categorical_accuracy: 0.3400\n",
      "\n",
      "Epoch 00012: saving model to model_init_2021-09-1315_22_51.930806/model-00012-0.53322-0.80995-3.42957-0.34000.h5\n",
      "Epoch 13/30\n",
      "10/10 [==============================] - 39s 4s/step - loss: 0.4595 - categorical_accuracy: 0.8354 - val_loss: 2.8005 - val_categorical_accuracy: 0.3400\n",
      "\n",
      "Epoch 00013: saving model to model_init_2021-09-1315_22_51.930806/model-00013-0.46652-0.82956-2.80046-0.34000.h5\n",
      "Epoch 14/30\n",
      "10/10 [==============================] - 37s 4s/step - loss: 0.4229 - categorical_accuracy: 0.8315 - val_loss: 2.3104 - val_categorical_accuracy: 0.4100\n",
      "\n",
      "Epoch 00014: saving model to model_init_2021-09-1315_22_51.930806/model-00014-0.44854-0.82202-2.31042-0.41000.h5\n",
      "Epoch 15/30\n",
      "10/10 [==============================] - 39s 4s/step - loss: 0.4663 - categorical_accuracy: 0.8208 - val_loss: 1.9597 - val_categorical_accuracy: 0.4600\n",
      "\n",
      "Epoch 00015: saving model to model_init_2021-09-1315_22_51.930806/model-00015-0.41632-0.84314-1.95967-0.46000.h5\n",
      "Epoch 16/30\n",
      "10/10 [==============================] - 38s 4s/step - loss: 0.3972 - categorical_accuracy: 0.8543 - val_loss: 1.6038 - val_categorical_accuracy: 0.5000\n",
      "\n",
      "Epoch 00016: saving model to model_init_2021-09-1315_22_51.930806/model-00016-0.38129-0.86124-1.60379-0.50000.h5\n",
      "Epoch 17/30\n",
      "10/10 [==============================] - 39s 4s/step - loss: 0.4205 - categorical_accuracy: 0.8377 - val_loss: 1.3711 - val_categorical_accuracy: 0.5100\n",
      "\n",
      "Epoch 00017: saving model to model_init_2021-09-1315_22_51.930806/model-00017-0.41690-0.84766-1.37114-0.51000.h5\n",
      "Epoch 18/30\n",
      "10/10 [==============================] - 37s 4s/step - loss: 0.3762 - categorical_accuracy: 0.8443 - val_loss: 1.2664 - val_categorical_accuracy: 0.5100\n",
      "\n",
      "Epoch 00018: saving model to model_init_2021-09-1315_22_51.930806/model-00018-0.39551-0.83560-1.26638-0.51000.h5\n",
      "Epoch 19/30\n",
      "10/10 [==============================] - 39s 4s/step - loss: 0.4485 - categorical_accuracy: 0.8144 - val_loss: 1.1091 - val_categorical_accuracy: 0.5700\n",
      "\n",
      "Epoch 00019: saving model to model_init_2021-09-1315_22_51.930806/model-00019-0.43269-0.82504-1.10908-0.57000.h5\n",
      "Epoch 20/30\n",
      "10/10 [==============================] - 37s 4s/step - loss: 0.3597 - categorical_accuracy: 0.8709 - val_loss: 1.0250 - val_categorical_accuracy: 0.5900\n",
      "\n",
      "Epoch 00020: saving model to model_init_2021-09-1315_22_51.930806/model-00020-0.36065-0.86576-1.02505-0.59000.h5\n",
      "Epoch 21/30\n",
      "10/10 [==============================] - 39s 4s/step - loss: 0.3612 - categorical_accuracy: 0.8800 - val_loss: 0.9614 - val_categorical_accuracy: 0.6200\n",
      "\n",
      "Epoch 00021: saving model to model_init_2021-09-1315_22_51.930806/model-00021-0.37908-0.85822-0.96144-0.62000.h5\n",
      "Epoch 22/30\n",
      "10/10 [==============================] - 37s 4s/step - loss: 0.3462 - categorical_accuracy: 0.8592 - val_loss: 0.7757 - val_categorical_accuracy: 0.6900\n",
      "\n",
      "Epoch 00022: saving model to model_init_2021-09-1315_22_51.930806/model-00022-0.35336-0.86275-0.77567-0.69000.h5\n",
      "Epoch 23/30\n",
      "10/10 [==============================] - 39s 4s/step - loss: 0.3318 - categorical_accuracy: 0.8658 - val_loss: 0.8488 - val_categorical_accuracy: 0.6800\n",
      "\n",
      "Epoch 00023: saving model to model_init_2021-09-1315_22_51.930806/model-00023-0.34091-0.86124-0.84880-0.68000.h5\n",
      "Epoch 24/30\n",
      "10/10 [==============================] - 37s 4s/step - loss: 0.3416 - categorical_accuracy: 0.8649 - val_loss: 0.6258 - val_categorical_accuracy: 0.7200\n",
      "\n",
      "Epoch 00024: saving model to model_init_2021-09-1315_22_51.930806/model-00024-0.36101-0.86275-0.62583-0.72000.h5\n",
      "Epoch 25/30\n",
      "10/10 [==============================] - 39s 4s/step - loss: 0.3201 - categorical_accuracy: 0.8725 - val_loss: 0.7587 - val_categorical_accuracy: 0.7000\n",
      "\n",
      "Epoch 00025: saving model to model_init_2021-09-1315_22_51.930806/model-00025-0.32455-0.87179-0.75873-0.70000.h5\n",
      "Epoch 26/30\n",
      "10/10 [==============================] - 37s 4s/step - loss: 0.3575 - categorical_accuracy: 0.8544 - val_loss: 0.6520 - val_categorical_accuracy: 0.6900\n",
      "\n",
      "Epoch 00026: saving model to model_init_2021-09-1315_22_51.930806/model-00026-0.33121-0.87179-0.65204-0.69000.h5\n",
      "\n",
      "Epoch 00026: ReduceLROnPlateau reducing learning rate to 9.999999310821295e-05.\n",
      "Epoch 27/30\n",
      "10/10 [==============================] - 38s 4s/step - loss: 0.3536 - categorical_accuracy: 0.8615 - val_loss: 0.7509 - val_categorical_accuracy: 0.6900\n",
      "\n",
      "Epoch 00027: saving model to model_init_2021-09-1315_22_51.930806/model-00027-0.33588-0.87029-0.75088-0.69000.h5\n",
      "Epoch 28/30\n",
      "10/10 [==============================] - 37s 4s/step - loss: 0.3462 - categorical_accuracy: 0.8748 - val_loss: 0.7020 - val_categorical_accuracy: 0.7000\n",
      "\n",
      "Epoch 00028: saving model to model_init_2021-09-1315_22_51.930806/model-00028-0.30728-0.88688-0.70199-0.70000.h5\n",
      "\n",
      "Epoch 00028: ReduceLROnPlateau reducing learning rate to 1e-05.\n",
      "Epoch 29/30\n",
      "10/10 [==============================] - 39s 4s/step - loss: 0.3077 - categorical_accuracy: 0.8665 - val_loss: 0.7270 - val_categorical_accuracy: 0.7000\n",
      "\n",
      "Epoch 00029: saving model to model_init_2021-09-1315_22_51.930806/model-00029-0.31452-0.87179-0.72700-0.70000.h5\n",
      "Epoch 30/30\n",
      "10/10 [==============================] - 38s 4s/step - loss: 0.2947 - categorical_accuracy: 0.8845 - val_loss: 0.8206 - val_categorical_accuracy: 0.7000\n",
      "\n",
      "Epoch 00030: saving model to model_init_2021-09-1315_22_51.930806/model-00030-0.30221-0.88386-0.82057-0.70000.h5\n"
     ]
    }
   ],
   "source": [
    "#Fitting the model.\n",
    "history = model2.fit_generator(train_generator, steps_per_epoch=steps_per_epoch, epochs=num_epochs, verbose=1, \n",
    "                    callbacks=callbacks_list, validation_data=val_generator, \n",
    "                    validation_steps=validation_steps, class_weight=None, workers=1, initial_epoch=0)"
   ]
  },
  {
   "cell_type": "markdown",
   "metadata": {},
   "source": [
    "### Visualizing training results"
   ]
  },
  {
   "cell_type": "code",
   "execution_count": 23,
   "metadata": {},
   "outputs": [
    {
     "data": {
      "image/png": "[encoded data removed]",
      "text/plain": [
       "<Figure size 576x576 with 2 Axes>"
      ]
     },
     "metadata": {
      "needs_background": "light"
     },
     "output_type": "display_data"
    }
   ],
   "source": [
    "acc = history.history['categorical_accuracy']\n",
    "val_acc = history.history['val_categorical_accuracy']\n",
    "\n",
    "loss = history.history['loss']\n",
    "val_loss = history.history['val_loss']\n",
    "\n",
    "epochs_range = range(num_epochs)\n",
    "\n",
    "plt.figure(figsize=(8, 8))\n",
    "plt.subplot(1, 2, 1)\n",
    "plt.plot(epochs_range, acc, label='Training Accuracy')\n",
    "plt.plot(epochs_range, val_acc, label='Validation Accuracy')\n",
    "plt.legend(loc='lower right')\n",
    "plt.title('Training and Validation Accuracy')\n",
    "\n",
    "plt.subplot(1, 2, 2)\n",
    "plt.plot(epochs_range, loss, label='Training Loss')\n",
    "plt.plot(epochs_range, val_loss, label='Validation Loss')\n",
    "plt.legend(loc='upper right')\n",
    "plt.title('Training and Validation Loss')\n",
    "plt.show()"
   ]
  },
  {
   "cell_type": "markdown",
   "metadata": {},
   "source": [
    "### Model architecture can be improved  by increasing the deapth of the network."
   ]
  },
  {
   "cell_type": "code",
   "execution_count": null,
   "metadata": {},
   "outputs": [],
   "source": []
  },
  {
   "cell_type": "markdown",
   "metadata": {},
   "source": [
    "### Model 3 (Conv3D):"
   ]
  },
  {
   "cell_type": "code",
   "execution_count": 24,
   "metadata": {},
   "outputs": [],
   "source": [
    "np.random.seed(30)\n",
    "rn.seed(30)\n",
    "tf.random.set_seed(30)"
   ]
  },
  {
   "cell_type": "code",
   "execution_count": 25,
   "metadata": {},
   "outputs": [],
   "source": [
    "#Batch size\n",
    "batch_size = 70 "
   ]
  },
  {
   "cell_type": "code",
   "execution_count": 26,
   "metadata": {},
   "outputs": [],
   "source": [
    "#Defining the Generator\n",
    "def generator_3(source_path, folder_list, batch_size):\n",
    "    print( 'Source path = ', source_path, '; batch size =', batch_size)\n",
    "    img_idx =[0,1,2,4,6,8,10,12,14,16,18,20,22,24,26,28]  #create a list of image numbers you want to use for a particular video\n",
    "    x = len(img_idx) #Number of images in a sequence.\n",
    "    y = 80 #Height of image\n",
    "    z = 80 #Width of image\n",
    "    while True:\n",
    "        t = np.random.permutation(folder_list)\n",
    "        num_batches = int(len(t)/batch_size) # calculate the number of batches\n",
    "        for batch in range(num_batches): # we iterate over the number of batches\n",
    "            batch_data = np.zeros((batch_size,x,y,z,3)) # x is the number of images you use for each video, (y,z) is the final size of the input images and 3 is the number of channels RGB\n",
    "            batch_labels = np.zeros((batch_size,5)) # batch_labels is the one hot representation of the output\n",
    "            for folder in range(batch_size): # iterate over the batch_size\n",
    "                imgs = os.listdir(source_path+'/'+ t[folder + (batch*batch_size)].split(';')[0]) # read all the images in the folder\n",
    "                for idx,item in enumerate(img_idx): #  Iterate iver the frames/images of a folder to read them in\n",
    "                    image = imread(source_path+'/'+ t[folder + (batch*batch_size)].strip().split(';')[0]+'/'+imgs[item])\n",
    "                    \n",
    "                    #crop the images and resize them. Note that the images are of 2 different shape \n",
    "                    #and the conv3D will throw error if the inputs in a batch have different shapes\n",
    "                    if image.shape[1] == 160:\n",
    "                        #Adjusting the width to 120 \n",
    "                        image = imresize(image[:,20:140,:], (y,z)).astype(np.float32)\n",
    "                    else:\n",
    "                        image = imresize(image, (y,z)).astype(np.float32)\n",
    "                    #Normalising using mean value of image.\n",
    "                    #Mean Red -122 ,Mean Green -113,Mean Blue -108\n",
    "                    batch_data[folder,idx,:,:,0] = image[:,:,0] - 122 #normalise and feed in the image\n",
    "                    batch_data[folder,idx,:,:,1] = image[:,:,1] - 113 #normalise and feed in the image\n",
    "                    batch_data[folder,idx,:,:,2] = image[:,:,2] - 108 #normalise and feed in the image                  \n",
    "                    \n",
    "                batch_labels[folder, int(t[folder + (batch*batch_size)].strip().split(';')[2])] = 1\n",
    "            yield batch_data, batch_labels #you yield the batch_data and the batch_labels, remember what does yield do\n",
    "\n",
    "        \n",
    "        # write the code for the remaining data points which are left after full batches\n",
    "        if (len(t)%batch_size) != 0:\n",
    "            batch_data = np.zeros((len(t)%batch_size,x,y,z,3))\n",
    "            batch_labels = np.zeros((len(t)%batch_size,5))\n",
    "            for folder in range(len(t)%batch_size):\n",
    "                imgs = os.listdir(source_path+'/'+ t[folder + (num_batches*batch_size)].split(';')[0])\n",
    "                for idx,item in enumerate(img_idx):\n",
    "                    image = imread(source_path+'/'+ t[folder + (num_batches*batch_size)].strip().split(';')[0]+'/'+imgs[item])\n",
    "                    \n",
    "                    if image.shape[1] == 160:\n",
    "                        #Adjusting the width to 120 \n",
    "                        image = imresize(image[:,20:140,:], (y,z)).astype(np.float32)\n",
    "                    else:\n",
    "                        image = imresize(image, (y,z)).astype(np.float32)\n",
    "  \n",
    "                    batch_data[folder,idx,:,:,0] = image[:,:,0] - 122  #normalise and feed in the image\n",
    "                    batch_data[folder,idx,:,:,1] = image[:,:,1] - 113  #normalise and feed in the image\n",
    "                    batch_data[folder,idx,:,:,2] = image[:,:,2] - 108  #normalise and feed in the image\n",
    "                    \n",
    "                batch_labels[folder, int(t[folder + (num_batches*batch_size)].strip().split(';')[2])] = 1\n",
    "\n",
    "            yield batch_data, batch_labels"
   ]
  },
  {
   "cell_type": "code",
   "execution_count": 27,
   "metadata": {},
   "outputs": [
    {
     "name": "stdout",
     "output_type": "stream",
     "text": [
      "# epochs = 35\n"
     ]
    }
   ],
   "source": [
    "curr_dt_time = datetime.datetime.now()\n",
    "# choose the number of epochs\n",
    "num_epochs =35 \n",
    "print ('# epochs =', num_epochs)"
   ]
  },
  {
   "cell_type": "code",
   "execution_count": 28,
   "metadata": {},
   "outputs": [],
   "source": [
    "#Defining the Model\n",
    "\n",
    "#Updation in Generator as well\n",
    "x = 16  #Number of images\n",
    "y = 80  #Height of image\n",
    "z = 80  #Width of image\n",
    "\n",
    "#Input layer\n",
    "model3 = Sequential()\n",
    "model3.add(Conv3D(64, (3,3,3), strides=(1,1,1), padding='same', input_shape=(x,y,z,3)))\n",
    "model3.add(BatchNormalization())\n",
    "model3.add(Activation('elu'))\n",
    "model3.add(MaxPooling3D(pool_size=(2,2,2), strides=(2,2,2)))\n",
    "\n",
    "#Hidden layer\n",
    "model3.add(Conv3D(128, (3,3,3), strides=(1,1,1), padding='same'))\n",
    "model3.add(BatchNormalization())\n",
    "model3.add(Activation('elu'))\n",
    "model3.add(MaxPooling3D(pool_size=(2,2,2), strides=(2,2,2)))\n",
    "\n",
    "#model.add(Dropout(0.2))\n",
    "#Hidden layer\n",
    "model3.add(Conv3D(256, (3,3,3), strides=(1,1,1), padding='same'))\n",
    "model3.add(BatchNormalization())\n",
    "model3.add(Activation('elu'))\n",
    "model3.add(MaxPooling3D(pool_size=(2,2,2), strides=(2,2,2)))\n",
    "\n",
    "#Hidden layer\n",
    "model3.add(Conv3D(256, (3,3,3), strides=(1,1,1), padding='same'))\n",
    "model3.add(BatchNormalization())\n",
    "model3.add(Activation('elu'))\n",
    "model3.add(MaxPooling3D(pool_size=(2,2,2), strides=(2,2,2)))\n",
    "\n",
    "#Dense and output layer.\n",
    "model3.add(Flatten())\n",
    "model3.add(Dropout(0.5))\n",
    "model3.add(Dense(512, activation='elu'))\n",
    "model3.add(Dropout(0.5))\n",
    "model3.add(Dense(5, activation='softmax'))"
   ]
  },
  {
   "cell_type": "code",
   "execution_count": 29,
   "metadata": {
    "scrolled": true
   },
   "outputs": [
    {
     "name": "stdout",
     "output_type": "stream",
     "text": [
      "Model: \"sequential_2\"\n",
      "_________________________________________________________________\n",
      "Layer (type)                 Output Shape              Param #   \n",
      "=================================================================\n",
      "conv3d_8 (Conv3D)            (None, 16, 80, 80, 64)    5248      \n",
      "_________________________________________________________________\n",
      "batch_normalization_8 (Batch (None, 16, 80, 80, 64)    256       \n",
      "_________________________________________________________________\n",
      "activation_4 (Activation)    (None, 16, 80, 80, 64)    0         \n",
      "_________________________________________________________________\n",
      "max_pooling3d_6 (MaxPooling3 (None, 8, 40, 40, 64)     0         \n",
      "_________________________________________________________________\n",
      "conv3d_9 (Conv3D)            (None, 8, 40, 40, 128)    221312    \n",
      "_________________________________________________________________\n",
      "batch_normalization_9 (Batch (None, 8, 40, 40, 128)    512       \n",
      "_________________________________________________________________\n",
      "activation_5 (Activation)    (None, 8, 40, 40, 128)    0         \n",
      "_________________________________________________________________\n",
      "max_pooling3d_7 (MaxPooling3 (None, 4, 20, 20, 128)    0         \n",
      "_________________________________________________________________\n",
      "conv3d_10 (Conv3D)           (None, 4, 20, 20, 256)    884992    \n",
      "_________________________________________________________________\n",
      "batch_normalization_10 (Batc (None, 4, 20, 20, 256)    1024      \n",
      "_________________________________________________________________\n",
      "activation_6 (Activation)    (None, 4, 20, 20, 256)    0         \n",
      "_________________________________________________________________\n",
      "max_pooling3d_8 (MaxPooling3 (None, 2, 10, 10, 256)    0         \n",
      "_________________________________________________________________\n",
      "conv3d_11 (Conv3D)           (None, 2, 10, 10, 256)    1769728   \n",
      "_________________________________________________________________\n",
      "batch_normalization_11 (Batc (None, 2, 10, 10, 256)    1024      \n",
      "_________________________________________________________________\n",
      "activation_7 (Activation)    (None, 2, 10, 10, 256)    0         \n",
      "_________________________________________________________________\n",
      "max_pooling3d_9 (MaxPooling3 (None, 1, 5, 5, 256)      0         \n",
      "_________________________________________________________________\n",
      "flatten_2 (Flatten)          (None, 6400)              0         \n",
      "_________________________________________________________________\n",
      "dropout_4 (Dropout)          (None, 6400)              0         \n",
      "_________________________________________________________________\n",
      "dense_4 (Dense)              (None, 512)               3277312   \n",
      "_________________________________________________________________\n",
      "dropout_5 (Dropout)          (None, 512)               0         \n",
      "_________________________________________________________________\n",
      "dense_5 (Dense)              (None, 5)                 2565      \n",
      "=================================================================\n",
      "Total params: 6,163,973\n",
      "Trainable params: 6,162,565\n",
      "Non-trainable params: 1,408\n",
      "_________________________________________________________________\n",
      "None\n"
     ]
    }
   ],
   "source": [
    "optimiser3 =  optimizers.SGD(learning_rate=0.01, decay=1e-5, momentum=0.7, nesterov=True) #write your optimizer\n",
    "model3.compile(optimizer=optimiser3, loss='categorical_crossentropy', metrics=['categorical_accuracy'])\n",
    "print (model3.summary())"
   ]
  },
  {
   "cell_type": "code",
   "execution_count": 30,
   "metadata": {},
   "outputs": [],
   "source": [
    "#generator \n",
    "train_generator = generator_3(train_path, train_doc, batch_size)\n",
    "val_generator = generator_3(val_path, val_doc, batch_size)"
   ]
  },
  {
   "cell_type": "code",
   "execution_count": 31,
   "metadata": {},
   "outputs": [
    {
     "name": "stdout",
     "output_type": "stream",
     "text": [
      "WARNING:tensorflow:`period` argument is deprecated. Please use `save_freq` to specify the frequency in number of batches seen.\n"
     ]
    }
   ],
   "source": [
    "model_name = 'model_init' + '_' + str(curr_dt_time).replace(' ','').replace(':','_') + '/'\n",
    "    \n",
    "if not os.path.exists(model_name):\n",
    "    os.mkdir(model_name)\n",
    "        \n",
    "filepath = model_name + 'model-{epoch:05d}-{loss:.5f}-{categorical_accuracy:.5f}-{val_loss:.5f}-{val_categorical_accuracy:.5f}.h5'\n",
    "\n",
    "\n",
    "checkpoint = ModelCheckpoint(filepath, monitor='val_loss', verbose=1, save_best_only=False, save_weights_only=False, mode='auto', period=1)\n",
    "\n",
    "LR = ReduceLROnPlateau(monitor='val_loss', factor=0.1, patience=2, verbose=1, mode='min', min_delta=0.0001, cooldown=0, min_lr=0.00001) # write the REducelronplateau code here\n",
    "callbacks_list = [checkpoint, LR]\n",
    "#callbacks_list = [LR]"
   ]
  },
  {
   "cell_type": "code",
   "execution_count": 32,
   "metadata": {},
   "outputs": [],
   "source": [
    "if (num_train_sequences%batch_size) == 0:\n",
    "    steps_per_epoch = int(num_train_sequences/batch_size)\n",
    "else:\n",
    "    steps_per_epoch = (num_train_sequences//batch_size) + 1\n",
    "\n",
    "if (num_val_sequences%batch_size) == 0:\n",
    "    validation_steps = int(num_val_sequences/batch_size)\n",
    "else:\n",
    "    validation_steps = (num_val_sequences//batch_size) + 1"
   ]
  },
  {
   "cell_type": "code",
   "execution_count": 33,
   "metadata": {},
   "outputs": [
    {
     "name": "stdout",
     "output_type": "stream",
     "text": [
      "Source path =  Project_data/train ; batch size = 70\n",
      "Epoch 1/35\n",
      "10/10 [==============================] - ETA: 0s - loss: 12.9203 - categorical_accuracy: 0.2744Source path =  Project_data/val ; batch size = 70\n",
      "10/10 [==============================] - 58s 5s/step - loss: 12.6844 - categorical_accuracy: 0.2785 - val_loss: 145.7147 - val_categorical_accuracy: 0.2300\n",
      "\n",
      "Epoch 00001: saving model to model_init_2021-09-1315_42_19.133766/model-00001-10.32440-0.31976-145.71469-0.23000.h5\n",
      "Epoch 2/35\n",
      "10/10 [==============================] - 39s 4s/step - loss: 1.7484 - categorical_accuracy: 0.4018 - val_loss: 55.3310 - val_categorical_accuracy: 0.2300\n",
      "\n",
      "Epoch 00002: saving model to model_init_2021-09-1315_42_19.133766/model-00002-1.73011-0.38311-55.33095-0.23000.h5\n",
      "Epoch 3/35\n",
      "10/10 [==============================] - 41s 4s/step - loss: 1.6166 - categorical_accuracy: 0.3943 - val_loss: 15.2851 - val_categorical_accuracy: 0.2300\n",
      "\n",
      "Epoch 00003: saving model to model_init_2021-09-1315_42_19.133766/model-00003-1.57050-0.39668-15.28509-0.23000.h5\n",
      "Epoch 4/35\n",
      "10/10 [==============================] - 39s 4s/step - loss: 1.7858 - categorical_accuracy: 0.3742 - val_loss: 13.9930 - val_categorical_accuracy: 0.2600\n",
      "\n",
      "Epoch 00004: saving model to model_init_2021-09-1315_42_19.133766/model-00004-1.65563-0.39065-13.99303-0.26000.h5\n",
      "Epoch 5/35\n",
      "10/10 [==============================] - 41s 4s/step - loss: 1.5397 - categorical_accuracy: 0.3995 - val_loss: 12.0134 - val_categorical_accuracy: 0.2300\n",
      "\n",
      "Epoch 00005: saving model to model_init_2021-09-1315_42_19.133766/model-00005-1.48808-0.41629-12.01338-0.23000.h5\n",
      "Epoch 6/35\n",
      "10/10 [==============================] - 39s 4s/step - loss: 1.4012 - categorical_accuracy: 0.4406 - val_loss: 14.5094 - val_categorical_accuracy: 0.2400\n",
      "\n",
      "Epoch 00006: saving model to model_init_2021-09-1315_42_19.133766/model-00006-1.39222-0.44646-14.50942-0.24000.h5\n",
      "Epoch 7/35\n",
      "10/10 [==============================] - 40s 4s/step - loss: 1.2849 - categorical_accuracy: 0.4974 - val_loss: 14.9192 - val_categorical_accuracy: 0.2300\n",
      "\n",
      "Epoch 00007: saving model to model_init_2021-09-1315_42_19.133766/model-00007-1.25697-0.48718-14.91923-0.23000.h5\n",
      "\n",
      "Epoch 00007: ReduceLROnPlateau reducing learning rate to 0.0009999999776482583.\n",
      "Epoch 8/35\n",
      "10/10 [==============================] - 39s 4s/step - loss: 1.3863 - categorical_accuracy: 0.5056 - val_loss: 9.0835 - val_categorical_accuracy: 0.2200\n",
      "\n",
      "Epoch 00008: saving model to model_init_2021-09-1315_42_19.133766/model-00008-1.33438-0.52338-9.08350-0.22000.h5\n",
      "Epoch 9/35\n",
      "10/10 [==============================] - 40s 4s/step - loss: 1.1724 - categorical_accuracy: 0.5026 - val_loss: 6.6772 - val_categorical_accuracy: 0.2300\n",
      "\n",
      "Epoch 00009: saving model to model_init_2021-09-1315_42_19.133766/model-00009-1.17714-0.50075-6.67715-0.23000.h5\n",
      "Epoch 10/35\n",
      "10/10 [==============================] - 38s 4s/step - loss: 1.1027 - categorical_accuracy: 0.5283 - val_loss: 5.7695 - val_categorical_accuracy: 0.1900\n",
      "\n",
      "Epoch 00010: saving model to model_init_2021-09-1315_42_19.133766/model-00010-1.13082-0.51433-5.76945-0.19000.h5\n",
      "Epoch 11/35\n",
      "10/10 [==============================] - 41s 4s/step - loss: 1.1883 - categorical_accuracy: 0.5365 - val_loss: 4.3941 - val_categorical_accuracy: 0.2300\n",
      "\n",
      "Epoch 00011: saving model to model_init_2021-09-1315_42_19.133766/model-00011-1.19492-0.52338-4.39406-0.23000.h5\n",
      "Epoch 12/35\n",
      "10/10 [==============================] - 38s 4s/step - loss: 1.1147 - categorical_accuracy: 0.5225 - val_loss: 3.3332 - val_categorical_accuracy: 0.2500\n",
      "\n",
      "Epoch 00012: saving model to model_init_2021-09-1315_42_19.133766/model-00012-1.13400-0.51885-3.33325-0.25000.h5\n",
      "Epoch 13/35\n",
      "10/10 [==============================] - 40s 4s/step - loss: 1.0404 - categorical_accuracy: 0.5557 - val_loss: 2.8630 - val_categorical_accuracy: 0.2600\n",
      "\n",
      "Epoch 00013: saving model to model_init_2021-09-1315_42_19.133766/model-00013-1.08120-0.55505-2.86304-0.26000.h5\n",
      "Epoch 14/35\n",
      "10/10 [==============================] - 39s 4s/step - loss: 1.1323 - categorical_accuracy: 0.5394 - val_loss: 2.4560 - val_categorical_accuracy: 0.3400\n",
      "\n",
      "Epoch 00014: saving model to model_init_2021-09-1315_42_19.133766/model-00014-1.17174-0.53243-2.45601-0.34000.h5\n",
      "Epoch 15/35\n",
      "10/10 [==============================] - 41s 4s/step - loss: 1.0340 - categorical_accuracy: 0.5994 - val_loss: 1.9439 - val_categorical_accuracy: 0.3800\n",
      "\n",
      "Epoch 00015: saving model to model_init_2021-09-1315_42_19.133766/model-00015-1.04118-0.58069-1.94392-0.38000.h5\n",
      "Epoch 16/35\n",
      "10/10 [==============================] - 39s 4s/step - loss: 0.9686 - categorical_accuracy: 0.5970 - val_loss: 1.6712 - val_categorical_accuracy: 0.4200\n",
      "\n",
      "Epoch 00016: saving model to model_init_2021-09-1315_42_19.133766/model-00016-0.98996-0.59427-1.67123-0.42000.h5\n",
      "Epoch 17/35\n",
      "10/10 [==============================] - 41s 4s/step - loss: 1.0425 - categorical_accuracy: 0.5689 - val_loss: 1.4761 - val_categorical_accuracy: 0.5000\n",
      "\n",
      "Epoch 00017: saving model to model_init_2021-09-1315_42_19.133766/model-00017-1.05414-0.55807-1.47614-0.50000.h5\n",
      "Epoch 18/35\n",
      "10/10 [==============================] - 39s 4s/step - loss: 1.0136 - categorical_accuracy: 0.5890 - val_loss: 1.1145 - val_categorical_accuracy: 0.6200\n",
      "\n",
      "Epoch 00018: saving model to model_init_2021-09-1315_42_19.133766/model-00018-1.03766-0.59276-1.11447-0.62000.h5\n",
      "Epoch 19/35\n",
      "10/10 [==============================] - 40s 4s/step - loss: 1.0986 - categorical_accuracy: 0.5278 - val_loss: 1.1211 - val_categorical_accuracy: 0.5700\n",
      "\n",
      "Epoch 00019: saving model to model_init_2021-09-1315_42_19.133766/model-00019-1.02898-0.56109-1.12114-0.57000.h5\n",
      "Epoch 20/35\n",
      "10/10 [==============================] - 39s 4s/step - loss: 1.0758 - categorical_accuracy: 0.5385 - val_loss: 1.0823 - val_categorical_accuracy: 0.5900\n",
      "\n",
      "Epoch 00020: saving model to model_init_2021-09-1315_42_19.133766/model-00020-1.01816-0.57315-1.08228-0.59000.h5\n",
      "Epoch 21/35\n",
      "10/10 [==============================] - 41s 4s/step - loss: 1.0264 - categorical_accuracy: 0.5883 - val_loss: 0.9660 - val_categorical_accuracy: 0.6100\n",
      "\n",
      "Epoch 00021: saving model to model_init_2021-09-1315_42_19.133766/model-00021-1.04352-0.58522-0.96601-0.61000.h5\n",
      "Epoch 22/35\n",
      "10/10 [==============================] - 39s 4s/step - loss: 1.0355 - categorical_accuracy: 0.5767 - val_loss: 0.8888 - val_categorical_accuracy: 0.6500\n",
      "\n",
      "Epoch 00022: saving model to model_init_2021-09-1315_42_19.133766/model-00022-1.03694-0.57014-0.88881-0.65000.h5\n",
      "Epoch 23/35\n",
      "10/10 [==============================] - 40s 4s/step - loss: 0.9864 - categorical_accuracy: 0.5869 - val_loss: 0.8550 - val_categorical_accuracy: 0.6700\n",
      "\n",
      "Epoch 00023: saving model to model_init_2021-09-1315_42_19.133766/model-00023-1.00606-0.58220-0.85497-0.67000.h5\n",
      "Epoch 24/35\n",
      "10/10 [==============================] - 38s 4s/step - loss: 0.9328 - categorical_accuracy: 0.6178 - val_loss: 0.7897 - val_categorical_accuracy: 0.6700\n",
      "\n",
      "Epoch 00024: saving model to model_init_2021-09-1315_42_19.133766/model-00024-0.94024-0.60332-0.78971-0.67000.h5\n",
      "Epoch 25/35\n",
      "10/10 [==============================] - 41s 4s/step - loss: 0.9070 - categorical_accuracy: 0.6386 - val_loss: 0.8093 - val_categorical_accuracy: 0.7000\n",
      "\n",
      "Epoch 00025: saving model to model_init_2021-09-1315_42_19.133766/model-00025-0.93116-0.62896-0.80929-0.70000.h5\n",
      "Epoch 26/35\n",
      "10/10 [==============================] - 39s 4s/step - loss: 0.9876 - categorical_accuracy: 0.5864 - val_loss: 0.7687 - val_categorical_accuracy: 0.7000\n",
      "\n",
      "Epoch 00026: saving model to model_init_2021-09-1315_42_19.133766/model-00026-0.96829-0.59578-0.76866-0.70000.h5\n",
      "Epoch 27/35\n",
      "10/10 [==============================] - 40s 4s/step - loss: 0.9958 - categorical_accuracy: 0.5922 - val_loss: 0.7969 - val_categorical_accuracy: 0.6700\n",
      "\n",
      "Epoch 00027: saving model to model_init_2021-09-1315_42_19.133766/model-00027-0.99261-0.59276-0.79690-0.67000.h5\n",
      "Epoch 28/35\n",
      "10/10 [==============================] - 39s 4s/step - loss: 1.0471 - categorical_accuracy: 0.6149 - val_loss: 0.8153 - val_categorical_accuracy: 0.7300\n",
      "\n",
      "Epoch 00028: saving model to model_init_2021-09-1315_42_19.133766/model-00028-0.98489-0.62594-0.81530-0.73000.h5\n",
      "\n",
      "Epoch 00028: ReduceLROnPlateau reducing learning rate to 9.999999310821295e-05.\n",
      "Epoch 29/35\n",
      "10/10 [==============================] - 41s 4s/step - loss: 0.9334 - categorical_accuracy: 0.6215 - val_loss: 0.7926 - val_categorical_accuracy: 0.7200\n",
      "\n",
      "Epoch 00029: saving model to model_init_2021-09-1315_42_19.133766/model-00029-0.95125-0.62443-0.79263-0.72000.h5\n",
      "Epoch 30/35\n",
      "10/10 [==============================] - 38s 4s/step - loss: 0.9960 - categorical_accuracy: 0.6103 - val_loss: 0.8474 - val_categorical_accuracy: 0.6900\n",
      "\n",
      "Epoch 00030: saving model to model_init_2021-09-1315_42_19.133766/model-00030-0.96908-0.61237-0.84742-0.69000.h5\n",
      "\n",
      "Epoch 00030: ReduceLROnPlateau reducing learning rate to 1e-05.\n",
      "Epoch 31/35\n",
      "10/10 [==============================] - 41s 4s/step - loss: 0.9608 - categorical_accuracy: 0.6142 - val_loss: 0.7875 - val_categorical_accuracy: 0.7200\n",
      "\n",
      "Epoch 00031: saving model to model_init_2021-09-1315_42_19.133766/model-00031-0.93465-0.61840-0.78754-0.72000.h5\n",
      "Epoch 32/35\n",
      "10/10 [==============================] - 39s 4s/step - loss: 0.9494 - categorical_accuracy: 0.5875 - val_loss: 0.7178 - val_categorical_accuracy: 0.7600\n",
      "\n",
      "Epoch 00032: saving model to model_init_2021-09-1315_42_19.133766/model-00032-0.94785-0.60332-0.71785-0.76000.h5\n",
      "Epoch 33/35\n",
      "10/10 [==============================] - 41s 4s/step - loss: 0.9663 - categorical_accuracy: 0.5923 - val_loss: 0.7868 - val_categorical_accuracy: 0.7200\n",
      "\n",
      "Epoch 00033: saving model to model_init_2021-09-1315_42_19.133766/model-00033-0.95171-0.59729-0.78678-0.72000.h5\n",
      "Epoch 34/35\n",
      "10/10 [==============================] - 39s 4s/step - loss: 0.8794 - categorical_accuracy: 0.6644 - val_loss: 0.8385 - val_categorical_accuracy: 0.7100\n",
      "\n",
      "Epoch 00034: saving model to model_init_2021-09-1315_42_19.133766/model-00034-0.91262-0.64103-0.83845-0.71000.h5\n",
      "Epoch 35/35\n",
      "10/10 [==============================] - 41s 4s/step - loss: 1.0001 - categorical_accuracy: 0.5985 - val_loss: 0.7865 - val_categorical_accuracy: 0.7300\n",
      "\n",
      "Epoch 00035: saving model to model_init_2021-09-1315_42_19.133766/model-00035-0.92936-0.61538-0.78649-0.73000.h5\n"
     ]
    }
   ],
   "source": [
    "#Fitting the model.\n",
    "history = model3.fit_generator(train_generator, steps_per_epoch=steps_per_epoch, epochs=num_epochs, verbose=1, \n",
    "                    callbacks=callbacks_list, validation_data=val_generator, \n",
    "                    validation_steps=validation_steps, class_weight=None, workers=1, initial_epoch=0)"
   ]
  },
  {
   "cell_type": "markdown",
   "metadata": {},
   "source": [
    "### Visualizing training results"
   ]
  },
  {
   "cell_type": "code",
   "execution_count": 34,
   "metadata": {},
   "outputs": [
    {
     "data": {
      "image/png": "[encoded data removed]",
      "text/plain": [
       "<Figure size 576x576 with 2 Axes>"
      ]
     },
     "metadata": {
      "needs_background": "light"
     },
     "output_type": "display_data"
    }
   ],
   "source": [
    "acc = history.history['categorical_accuracy']\n",
    "val_acc = history.history['val_categorical_accuracy']\n",
    "\n",
    "loss = history.history['loss']\n",
    "val_loss = history.history['val_loss']\n",
    "\n",
    "epochs_range = range(num_epochs)\n",
    "\n",
    "plt.figure(figsize=(8, 8))\n",
    "plt.subplot(1, 2, 1)\n",
    "plt.plot(epochs_range, acc, label='Training Accuracy')\n",
    "plt.plot(epochs_range, val_acc, label='Validation Accuracy')\n",
    "plt.legend(loc='lower right')\n",
    "plt.title('Training and Validation Accuracy')\n",
    "\n",
    "plt.subplot(1, 2, 2)\n",
    "plt.plot(epochs_range, loss, label='Training Loss')\n",
    "plt.plot(epochs_range, val_loss, label='Validation Loss')\n",
    "plt.legend(loc='upper right')\n",
    "plt.title('Training and Validation Loss')\n",
    "plt.show()"
   ]
  },
  {
   "cell_type": "markdown",
   "metadata": {},
   "source": [
    "### Changing the model architecture to 2dCNN+RNN based architecture."
   ]
  },
  {
   "cell_type": "code",
   "execution_count": 35,
   "metadata": {},
   "outputs": [],
   "source": [
    "#!pip install numpy==1.19.5"
   ]
  },
  {
   "cell_type": "markdown",
   "metadata": {},
   "source": [
    "### Model 4 (ConvGRU):"
   ]
  },
  {
   "cell_type": "code",
   "execution_count": 36,
   "metadata": {},
   "outputs": [],
   "source": [
    "np.random.seed(30)\n",
    "rn.seed(30)\n",
    "tf.random.set_seed(30)"
   ]
  },
  {
   "cell_type": "code",
   "execution_count": 37,
   "metadata": {},
   "outputs": [],
   "source": [
    "#Batch size\n",
    "batch_size = 40 "
   ]
  },
  {
   "cell_type": "code",
   "execution_count": 38,
   "metadata": {},
   "outputs": [],
   "source": [
    "def generator_4(source_path, folder_list, batch_size):\n",
    "    print( 'Source path = ', source_path, '; batch size =', batch_size)\n",
    "    img_idx =[i*2 for i in range(15)]  #create a list of image numbers you want to use for a particular video\n",
    "    x = len(img_idx) #Number of images in a sequence.\n",
    "    y = 120 #Height of image\n",
    "    z = 120 #Width of image\n",
    "    while True:\n",
    "        t = np.random.permutation(folder_list)\n",
    "        num_batches = int(len(t)/batch_size) # calculate the number of batches\n",
    "        for batch in range(num_batches): # we iterate over the number of batches\n",
    "            batch_data = np.zeros((batch_size,x,y,z,3)) # x is the number of images you use for each video, (y,z) is the final size of the input images and 3 is the number of channels RGB\n",
    "            batch_labels = np.zeros((batch_size,5)) # batch_labels is the one hot representation of the output\n",
    "            for folder in range(batch_size): # iterate over the batch_size\n",
    "                imgs = os.listdir(source_path+'/'+ t[folder + (batch*batch_size)].split(';')[0]) # read all the images in the folder\n",
    "                for idx,item in enumerate(img_idx): #  Iterate iver the frames/images of a folder to read them in\n",
    "                    image = imread(source_path+'/'+ t[folder + (batch*batch_size)].strip().split(';')[0]+'/'+imgs[item])\n",
    "                    \n",
    "                    #crop the images and resize them. Note that the images are of 2 different shape \n",
    "                    #and the conv3D will throw error if the inputs in a batch have different shapes\n",
    "                    if image.shape[1] == 160:\n",
    "                        #Adjusting the width to 120 \n",
    "                        image = imresize(image[:,20:140,:], (y,z)).astype(np.float32)\n",
    "                    else:\n",
    "                        image = imresize(image, (y,z)).astype(np.float32)\n",
    "                    #Normalising using mean value of image.\n",
    "                    batch_data[folder,idx,:,:,0] = image[:,:,0]/255 #normalise and feed in the image\n",
    "                    batch_data[folder,idx,:,:,1] = image[:,:,1]/255 #normalise and feed in the image\n",
    "                    batch_data[folder,idx,:,:,2] = image[:,:,2]/255 #normalise and feed in the image \n",
    "                    \n",
    "                batch_labels[folder, int(t[folder + (batch*batch_size)].strip().split(';')[2])] = 1\n",
    "            yield batch_data, batch_labels #you yield the batch_data and the batch_labels, remember what does yield do\n",
    "\n",
    "        \n",
    "        # write the code for the remaining data points which are left after full batches\n",
    "        if (len(t)%batch_size) != 0:\n",
    "            batch_data = np.zeros((len(t)%batch_size,x,y,z,3))\n",
    "            batch_labels = np.zeros((len(t)%batch_size,5))\n",
    "            for folder in range(len(t)%batch_size):\n",
    "                imgs = os.listdir(source_path+'/'+ t[folder + (num_batches*batch_size)].split(';')[0])\n",
    "                for idx,item in enumerate(img_idx):\n",
    "                    image = imread(source_path+'/'+ t[folder + (num_batches*batch_size)].strip().split(';')[0]+'/'+imgs[item])\n",
    "                    \n",
    "                    if image.shape[1] == 160:\n",
    "                        #Adjusting the width to 120 \n",
    "                        image = imresize(image[:,20:140,:], (y,z)).astype(np.float32)\n",
    "                    else:\n",
    "                        image = imresize(image, (y,z)).astype(np.float32)\n",
    "  \n",
    "                    batch_data[folder,idx,:,:,0] = image[:,:,0]/255 #normalise and feed in the image\n",
    "                    batch_data[folder,idx,:,:,1] = image[:,:,1]/255 #normalise and feed in the image\n",
    "                    batch_data[folder,idx,:,:,2] = image[:,:,2]/255 #normalise and feed in the image\n",
    "                    \n",
    "                batch_labels[folder, int(t[folder + (num_batches*batch_size)].strip().split(';')[2])] = 1\n",
    "\n",
    "            yield batch_data, batch_labels"
   ]
  },
  {
   "cell_type": "code",
   "execution_count": 39,
   "metadata": {},
   "outputs": [
    {
     "name": "stdout",
     "output_type": "stream",
     "text": [
      "# epochs = 30\n"
     ]
    }
   ],
   "source": [
    "curr_dt_time = datetime.datetime.now()\n",
    "# choose the number of epochs\n",
    "num_epochs =30 \n",
    "print ('# epochs =', num_epochs)"
   ]
  },
  {
   "cell_type": "code",
   "execution_count": 40,
   "metadata": {},
   "outputs": [],
   "source": [
    "from tensorflow.keras.models import Sequential, Model\n",
    "from tensorflow.keras.layers import Dense, GRU, Dropout, Flatten, TimeDistributed\n",
    "from tensorflow.keras.callbacks import ModelCheckpoint, ReduceLROnPlateau\n",
    "from tensorflow.keras import optimizers\n",
    "from tensorflow.keras.applications.vgg19 import VGG19\n",
    "\n",
    "#Defining model \n",
    "img_seq = 15\n",
    "y=120\n",
    "z=120\n",
    "\n",
    "#BaseModel\n",
    "base_model = VGG19(include_top=False, weights='imagenet', input_shape=(y,z,3))\n",
    "x = base_model.output\n",
    "x = Flatten()(x)\n",
    "\n",
    "#x.add(Dropout(0.5))\n",
    "\n",
    "features = Dense(64, activation='relu')(x)\n",
    "conv_model = Model(inputs=base_model.input, outputs=features)\n",
    "    \n",
    "for layer in base_model.layers:\n",
    "    layer.trainable = False\n",
    "\n",
    "#Sequential model.\n",
    "model4 = Sequential()\n",
    "model4.add(TimeDistributed(conv_model, input_shape=(img_seq,y,z,3)))\n",
    "\n",
    "model4.add(GRU(64, return_sequences=True))\n",
    "model4.add(GRU(16))\n",
    "\n",
    "model4.add(Dropout(0.5))\n",
    "\n",
    "model4.add(Dense(64, activation='relu'))\n",
    "model4.add(Dense(5, activation='softmax'))"
   ]
  },
  {
   "cell_type": "code",
   "execution_count": 41,
   "metadata": {
    "scrolled": true
   },
   "outputs": [
    {
     "name": "stdout",
     "output_type": "stream",
     "text": [
      "Model: \"sequential_3\"\n",
      "_________________________________________________________________\n",
      "Layer (type)                 Output Shape              Param #   \n",
      "=================================================================\n",
      "time_distributed (TimeDistri (None, 15, 64)            20319360  \n",
      "_________________________________________________________________\n",
      "gru (GRU)                    (None, 15, 64)            24960     \n",
      "_________________________________________________________________\n",
      "gru_1 (GRU)                  (None, 16)                3936      \n",
      "_________________________________________________________________\n",
      "dropout_6 (Dropout)          (None, 16)                0         \n",
      "_________________________________________________________________\n",
      "dense_7 (Dense)              (None, 64)                1088      \n",
      "_________________________________________________________________\n",
      "dense_8 (Dense)              (None, 5)                 325       \n",
      "=================================================================\n",
      "Total params: 20,349,669\n",
      "Trainable params: 325,285\n",
      "Non-trainable params: 20,024,384\n",
      "_________________________________________________________________\n",
      "None\n"
     ]
    }
   ],
   "source": [
    "optimiser4 =  optimizers.SGD(learning_rate=0.01, decay=1e-5, momentum=0.7, nesterov=True) #write your optimizer\n",
    "model4.compile(optimizer=optimiser4, loss='categorical_crossentropy', metrics=['categorical_accuracy'])\n",
    "print (model4.summary())"
   ]
  },
  {
   "cell_type": "code",
   "execution_count": 42,
   "metadata": {},
   "outputs": [],
   "source": [
    "#generator \n",
    "train_generator = generator_4(train_path, train_doc, batch_size)\n",
    "val_generator = generator_4(val_path, val_doc, batch_size)"
   ]
  },
  {
   "cell_type": "code",
   "execution_count": 43,
   "metadata": {},
   "outputs": [],
   "source": [
    "model_name = 'model_init' + '_' + str(curr_dt_time).replace(' ','').replace(':','_') + '/'\n",
    "    \n",
    "if not os.path.exists(model_name):\n",
    "    os.mkdir(model_name)\n",
    "        \n",
    "filepath = model_name + 'model-{epoch:05d}-{loss:.5f}-{categorical_accuracy:.5f}-{val_loss:.5f}-{val_categorical_accuracy:.5f}.h5'\n",
    "\n",
    "#Updating checkpoint only for best model because of space constraints.\n",
    "#checkpoint = ModelCheckpoint(filepath, monitor='val_loss', verbose=1, save_best_only=False, save_weights_only=False, mode='auto', period=1)\n",
    "\n",
    "LR = ReduceLROnPlateau(monitor='val_loss', factor=0.1, patience=2, verbose=1, mode='min', min_delta=0.0001, cooldown=0, min_lr=0.00001) # write the REducelronplateau code here\n",
    "#callbacks_list = [checkpoint, LR]\n",
    "callbacks_list = [LR]"
   ]
  },
  {
   "cell_type": "code",
   "execution_count": 44,
   "metadata": {},
   "outputs": [],
   "source": [
    "if (num_train_sequences%batch_size) == 0:\n",
    "    steps_per_epoch = int(num_train_sequences/batch_size)\n",
    "else:\n",
    "    steps_per_epoch = (num_train_sequences//batch_size) + 1\n",
    "\n",
    "if (num_val_sequences%batch_size) == 0:\n",
    "    validation_steps = int(num_val_sequences/batch_size)\n",
    "else:\n",
    "    validation_steps = (num_val_sequences//batch_size) + 1"
   ]
  },
  {
   "cell_type": "code",
   "execution_count": 45,
   "metadata": {},
   "outputs": [
    {
     "name": "stdout",
     "output_type": "stream",
     "text": [
      "Source path =  Project_data/train ; batch size = 40\n",
      "Epoch 1/30\n",
      "17/17 [==============================] - ETA: 0s - loss: 1.6201 - categorical_accuracy: 0.2383Source path =  Project_data/val ; batch size = 40\n",
      "17/17 [==============================] - 129s 7s/step - loss: 1.6201 - categorical_accuracy: 0.2376 - val_loss: 1.5830 - val_categorical_accuracy: 0.2900\n",
      "Epoch 2/30\n",
      "17/17 [==============================] - 99s 6s/step - loss: 1.6030 - categorical_accuracy: 0.2418 - val_loss: 1.5502 - val_categorical_accuracy: 0.3400\n",
      "Epoch 3/30\n",
      "17/17 [==============================] - 63s 4s/step - loss: 1.5525 - categorical_accuracy: 0.3112 - val_loss: 1.5385 - val_categorical_accuracy: 0.3900\n",
      "Epoch 4/30\n",
      "17/17 [==============================] - 41s 3s/step - loss: 1.5017 - categorical_accuracy: 0.3774 - val_loss: 1.4430 - val_categorical_accuracy: 0.4700\n",
      "Epoch 5/30\n",
      "17/17 [==============================] - 40s 2s/step - loss: 1.4295 - categorical_accuracy: 0.4082 - val_loss: 1.4392 - val_categorical_accuracy: 0.4100\n",
      "Epoch 6/30\n",
      "17/17 [==============================] - 40s 2s/step - loss: 1.4651 - categorical_accuracy: 0.3426 - val_loss: 1.3641 - val_categorical_accuracy: 0.5200\n",
      "Epoch 7/30\n",
      "17/17 [==============================] - 41s 2s/step - loss: 1.4164 - categorical_accuracy: 0.3990 - val_loss: 1.4078 - val_categorical_accuracy: 0.4200\n",
      "Epoch 8/30\n",
      "17/17 [==============================] - 41s 2s/step - loss: 1.3504 - categorical_accuracy: 0.4118 - val_loss: 1.7244 - val_categorical_accuracy: 0.2200\n",
      "\n",
      "Epoch 00008: ReduceLROnPlateau reducing learning rate to 0.0009999999776482583.\n",
      "Epoch 9/30\n",
      "17/17 [==============================] - 40s 2s/step - loss: 1.5085 - categorical_accuracy: 0.3526 - val_loss: 1.2581 - val_categorical_accuracy: 0.5100\n",
      "Epoch 10/30\n",
      "17/17 [==============================] - 41s 3s/step - loss: 1.2751 - categorical_accuracy: 0.4798 - val_loss: 1.2513 - val_categorical_accuracy: 0.5500\n",
      "Epoch 11/30\n",
      "17/17 [==============================] - 41s 2s/step - loss: 1.2212 - categorical_accuracy: 0.5358 - val_loss: 1.2591 - val_categorical_accuracy: 0.5200\n",
      "Epoch 12/30\n",
      "17/17 [==============================] - 40s 2s/step - loss: 1.2608 - categorical_accuracy: 0.5031 - val_loss: 1.2081 - val_categorical_accuracy: 0.5900\n",
      "Epoch 13/30\n",
      "17/17 [==============================] - 41s 2s/step - loss: 1.2327 - categorical_accuracy: 0.5213 - val_loss: 1.2467 - val_categorical_accuracy: 0.5800\n",
      "Epoch 14/30\n",
      "17/17 [==============================] - 41s 3s/step - loss: 1.2096 - categorical_accuracy: 0.5150 - val_loss: 1.1951 - val_categorical_accuracy: 0.6100\n",
      "Epoch 15/30\n",
      "17/17 [==============================] - 40s 2s/step - loss: 1.1933 - categorical_accuracy: 0.5223 - val_loss: 1.2344 - val_categorical_accuracy: 0.5500\n",
      "Epoch 16/30\n",
      "17/17 [==============================] - 40s 2s/step - loss: 1.2078 - categorical_accuracy: 0.5335 - val_loss: 1.2077 - val_categorical_accuracy: 0.5900\n",
      "\n",
      "Epoch 00016: ReduceLROnPlateau reducing learning rate to 9.999999310821295e-05.\n",
      "Epoch 17/30\n",
      "17/17 [==============================] - 41s 2s/step - loss: 1.1667 - categorical_accuracy: 0.5397 - val_loss: 1.1886 - val_categorical_accuracy: 0.6000\n",
      "Epoch 18/30\n",
      "17/17 [==============================] - 40s 2s/step - loss: 1.1729 - categorical_accuracy: 0.5699 - val_loss: 1.2113 - val_categorical_accuracy: 0.5500\n",
      "Epoch 19/30\n",
      "17/17 [==============================] - 41s 3s/step - loss: 1.1465 - categorical_accuracy: 0.5855 - val_loss: 1.2067 - val_categorical_accuracy: 0.5700\n",
      "\n",
      "Epoch 00019: ReduceLROnPlateau reducing learning rate to 1e-05.\n",
      "Epoch 20/30\n",
      "17/17 [==============================] - 40s 2s/step - loss: 1.1767 - categorical_accuracy: 0.5574 - val_loss: 1.1734 - val_categorical_accuracy: 0.6000\n",
      "Epoch 21/30\n",
      "17/17 [==============================] - 40s 2s/step - loss: 1.1950 - categorical_accuracy: 0.5316 - val_loss: 1.2119 - val_categorical_accuracy: 0.5500\n",
      "Epoch 22/30\n",
      "17/17 [==============================] - 41s 2s/step - loss: 1.1651 - categorical_accuracy: 0.5570 - val_loss: 1.2063 - val_categorical_accuracy: 0.5700\n",
      "Epoch 23/30\n",
      "17/17 [==============================] - 41s 2s/step - loss: 1.1853 - categorical_accuracy: 0.5401 - val_loss: 1.1942 - val_categorical_accuracy: 0.6000\n",
      "Epoch 24/30\n",
      "17/17 [==============================] - 40s 2s/step - loss: 1.1665 - categorical_accuracy: 0.5386 - val_loss: 1.1978 - val_categorical_accuracy: 0.5600\n",
      "Epoch 25/30\n",
      "17/17 [==============================] - 40s 2s/step - loss: 1.1713 - categorical_accuracy: 0.5472 - val_loss: 1.2065 - val_categorical_accuracy: 0.5700\n",
      "Epoch 26/30\n",
      "17/17 [==============================] - 41s 2s/step - loss: 1.1829 - categorical_accuracy: 0.5279 - val_loss: 1.1611 - val_categorical_accuracy: 0.6400\n",
      "Epoch 27/30\n",
      "17/17 [==============================] - 40s 2s/step - loss: 1.2201 - categorical_accuracy: 0.5169 - val_loss: 1.2550 - val_categorical_accuracy: 0.5100\n",
      "Epoch 28/30\n",
      "17/17 [==============================] - 41s 3s/step - loss: 1.1650 - categorical_accuracy: 0.5493 - val_loss: 1.2065 - val_categorical_accuracy: 0.5700\n",
      "Epoch 29/30\n",
      "17/17 [==============================] - 40s 2s/step - loss: 1.1760 - categorical_accuracy: 0.5445 - val_loss: 1.2242 - val_categorical_accuracy: 0.5300\n",
      "Epoch 30/30\n",
      "17/17 [==============================] - 39s 2s/step - loss: 1.1769 - categorical_accuracy: 0.5446 - val_loss: 1.2222 - val_categorical_accuracy: 0.5300\n"
     ]
    }
   ],
   "source": [
    "#Fitting the model.\n",
    "history = model4.fit_generator(train_generator, steps_per_epoch=steps_per_epoch, epochs=num_epochs, verbose=1, \n",
    "                    callbacks=callbacks_list, validation_data=val_generator, \n",
    "                    validation_steps=validation_steps, class_weight=None, workers=1, initial_epoch=0)"
   ]
  },
  {
   "cell_type": "markdown",
   "metadata": {},
   "source": [
    "### Visualizing training results"
   ]
  },
  {
   "cell_type": "code",
   "execution_count": 46,
   "metadata": {},
   "outputs": [
    {
     "data": {
      "image/png": "[encoded data removed]",
      "text/plain": [
       "<Figure size 576x576 with 2 Axes>"
      ]
     },
     "metadata": {
      "needs_background": "light"
     },
     "output_type": "display_data"
    }
   ],
   "source": [
    "acc = history.history['categorical_accuracy']\n",
    "val_acc = history.history['val_categorical_accuracy']\n",
    "\n",
    "loss = history.history['loss']\n",
    "val_loss = history.history['val_loss']\n",
    "\n",
    "epochs_range = range(num_epochs)\n",
    "\n",
    "plt.figure(figsize=(8, 8))\n",
    "plt.subplot(1, 2, 1)\n",
    "plt.plot(epochs_range, acc, label='Training Accuracy')\n",
    "plt.plot(epochs_range, val_acc, label='Validation Accuracy')\n",
    "plt.legend(loc='lower right')\n",
    "plt.title('Training and Validation Accuracy')\n",
    "\n",
    "plt.subplot(1, 2, 2)\n",
    "plt.plot(epochs_range, loss, label='Training Loss')\n",
    "plt.plot(epochs_range, val_loss, label='Validation Loss')\n",
    "plt.legend(loc='upper right')\n",
    "plt.title('Training and Validation Loss')\n",
    "plt.show()"
   ]
  },
  {
   "cell_type": "markdown",
   "metadata": {},
   "source": [
    "## Overall accuracy can be improved by normalising image by Subtracting pixel value per channel by mean value per channel."
   ]
  },
  {
   "cell_type": "code",
   "execution_count": null,
   "metadata": {},
   "outputs": [],
   "source": []
  },
  {
   "cell_type": "markdown",
   "metadata": {},
   "source": [
    "### Model 5 (ConvGRU):"
   ]
  },
  {
   "cell_type": "code",
   "execution_count": 47,
   "metadata": {},
   "outputs": [],
   "source": [
    "np.random.seed(30)\n",
    "rn.seed(30)\n",
    "tf.random.set_seed(30)"
   ]
  },
  {
   "cell_type": "code",
   "execution_count": 48,
   "metadata": {},
   "outputs": [],
   "source": [
    "#Batch size\n",
    "batch_size = 40"
   ]
  },
  {
   "cell_type": "code",
   "execution_count": 49,
   "metadata": {},
   "outputs": [],
   "source": [
    "#Defining the generator\n",
    "def generator_5(source_path, folder_list, batch_size):\n",
    "    print( 'Source path = ', source_path, '; batch size =', batch_size)\n",
    "    img_idx =[0,1,2,4,6,8,10,12,14,16,18,20,22,24,26,28]  #create a list of image numbers you want to use for a particular video\n",
    "    x = len(img_idx) #Number of images in a sequence.\n",
    "    y = 120 #Height of image\n",
    "    z = 120 #Width of image\n",
    "    while True:\n",
    "        t = np.random.permutation(folder_list)\n",
    "        num_batches = int(len(t)/batch_size) # calculate the number of batches\n",
    "        for batch in range(num_batches): # we iterate over the number of batches\n",
    "            batch_data = np.zeros((batch_size,x,y,z,3)) # x is the number of images you use for each video, (y,z) is the final size of the input images and 3 is the number of channels RGB\n",
    "            batch_labels = np.zeros((batch_size,5)) # batch_labels is the one hot representation of the output\n",
    "            for folder in range(batch_size): # iterate over the batch_size\n",
    "                imgs = os.listdir(source_path+'/'+ t[folder + (batch*batch_size)].split(';')[0]) # read all the images in the folder\n",
    "                for idx,item in enumerate(img_idx): #  Iterate iver the frames/images of a folder to read them in\n",
    "                    image = imread(source_path+'/'+ t[folder + (batch*batch_size)].strip().split(';')[0]+'/'+imgs[item])\n",
    "                    \n",
    "                    #crop the images and resize them. Note that the images are of 2 different shape \n",
    "                    #and the conv3D will throw error if the inputs in a batch have different shapes\n",
    "                    if image.shape[1] == 160:\n",
    "                        #Adjusting the width to 120 \n",
    "                        image = imresize(image[:,20:140,:], (y,z)).astype(np.float32)\n",
    "                    else:\n",
    "                        image = imresize(image, (y,z)).astype(np.float32)\n",
    "                    #Normalising using mean value of image.\n",
    "                    #Mean Red -122 ,Mean Green -113,Mean Blue -108\n",
    "                    batch_data[folder,idx,:,:,0] = image[:,:,0] - 122 #normalise and feed in the image\n",
    "                    batch_data[folder,idx,:,:,1] = image[:,:,1] - 113 #normalise and feed in the image\n",
    "                    batch_data[folder,idx,:,:,2] = image[:,:,2] - 108 #normalise and feed in the image                  \n",
    "                    \n",
    "                batch_labels[folder, int(t[folder + (batch*batch_size)].strip().split(';')[2])] = 1\n",
    "            yield batch_data, batch_labels #you yield the batch_data and the batch_labels, remember what does yield do\n",
    "\n",
    "        \n",
    "        # write the code for the remaining data points which are left after full batches\n",
    "        if (len(t)%batch_size) != 0:\n",
    "            batch_data = np.zeros((len(t)%batch_size,x,y,z,3))\n",
    "            batch_labels = np.zeros((len(t)%batch_size,5))\n",
    "            for folder in range(len(t)%batch_size):\n",
    "                imgs = os.listdir(source_path+'/'+ t[folder + (num_batches*batch_size)].split(';')[0])\n",
    "                for idx,item in enumerate(img_idx):\n",
    "                    image = imread(source_path+'/'+ t[folder + (num_batches*batch_size)].strip().split(';')[0]+'/'+imgs[item])\n",
    "                    \n",
    "                    if image.shape[1] == 160:\n",
    "                        #Adjusting the width to 120 \n",
    "                        image = imresize(image[:,20:140,:], (y,z)).astype(np.float32)\n",
    "                    else:\n",
    "                        image = imresize(image, (y,z)).astype(np.float32)\n",
    "  \n",
    "                    batch_data[folder,idx,:,:,0] = image[:,:,0] - 122  #normalise and feed in the image\n",
    "                    batch_data[folder,idx,:,:,1] = image[:,:,1] - 113  #normalise and feed in the image\n",
    "                    batch_data[folder,idx,:,:,2] = image[:,:,2] - 108  #normalise and feed in the image\n",
    "                    \n",
    "                batch_labels[folder, int(t[folder + (num_batches*batch_size)].strip().split(';')[2])] = 1\n",
    "\n",
    "            yield batch_data, batch_labels"
   ]
  },
  {
   "cell_type": "code",
   "execution_count": 50,
   "metadata": {},
   "outputs": [
    {
     "name": "stdout",
     "output_type": "stream",
     "text": [
      "# epochs = 35\n"
     ]
    }
   ],
   "source": [
    "curr_dt_time = datetime.datetime.now()\n",
    "# choose the number of epochs\n",
    "num_epochs =35 \n",
    "print ('# epochs =', num_epochs)"
   ]
  },
  {
   "cell_type": "code",
   "execution_count": 51,
   "metadata": {},
   "outputs": [],
   "source": [
    "#Model Building Code.\n",
    "img_seq = 16\n",
    "y=120\n",
    "z=120\n",
    "\n",
    "base_model = VGG19(include_top=False, weights='imagenet', input_shape=(y,z,3))\n",
    "x = base_model.output\n",
    "x = Flatten()(x)\n",
    "\n",
    "#x.add(Dropout(0.5))\n",
    "\n",
    "features = Dense(64, activation='relu')(x)\n",
    "conv_model = Model(inputs=base_model.input, outputs=features)\n",
    "    \n",
    "for layer in base_model.layers:\n",
    "    layer.trainable = False\n",
    "        \n",
    "model5 = Sequential()\n",
    "model5.add(TimeDistributed(conv_model, input_shape=(img_seq,y,z,3)))\n",
    "\n",
    "model5.add(GRU(32, return_sequences=True))\n",
    "model5.add(GRU(16))\n",
    "\n",
    "model5.add(Dropout(0.5))\n",
    "\n",
    "model5.add(Dense(64, activation='relu'))\n",
    "model5.add(Dense(5, activation='softmax'))"
   ]
  },
  {
   "cell_type": "code",
   "execution_count": 52,
   "metadata": {
    "scrolled": true
   },
   "outputs": [
    {
     "name": "stdout",
     "output_type": "stream",
     "text": [
      "Model: \"sequential_4\"\n",
      "_________________________________________________________________\n",
      "Layer (type)                 Output Shape              Param #   \n",
      "=================================================================\n",
      "time_distributed_1 (TimeDist (None, 16, 64)            20319360  \n",
      "_________________________________________________________________\n",
      "gru_2 (GRU)                  (None, 16, 32)            9408      \n",
      "_________________________________________________________________\n",
      "gru_3 (GRU)                  (None, 16)                2400      \n",
      "_________________________________________________________________\n",
      "dropout_7 (Dropout)          (None, 16)                0         \n",
      "_________________________________________________________________\n",
      "dense_10 (Dense)             (None, 64)                1088      \n",
      "_________________________________________________________________\n",
      "dense_11 (Dense)             (None, 5)                 325       \n",
      "=================================================================\n",
      "Total params: 20,332,581\n",
      "Trainable params: 308,197\n",
      "Non-trainable params: 20,024,384\n",
      "_________________________________________________________________\n",
      "None\n"
     ]
    }
   ],
   "source": [
    "optimiser5 =  optimizers.SGD(learning_rate=0.01, decay=1e-5, momentum=0.7, nesterov=True) #write your optimizer\n",
    "model5.compile(optimizer=optimiser5, loss='categorical_crossentropy', metrics=['categorical_accuracy'])\n",
    "print (model5.summary())"
   ]
  },
  {
   "cell_type": "code",
   "execution_count": 53,
   "metadata": {},
   "outputs": [],
   "source": [
    "#generator \n",
    "train_generator = generator_5(train_path, train_doc, batch_size)\n",
    "val_generator = generator_5(val_path, val_doc, batch_size)"
   ]
  },
  {
   "cell_type": "code",
   "execution_count": 54,
   "metadata": {},
   "outputs": [
    {
     "name": "stdout",
     "output_type": "stream",
     "text": [
      "WARNING:tensorflow:`period` argument is deprecated. Please use `save_freq` to specify the frequency in number of batches seen.\n"
     ]
    }
   ],
   "source": [
    "model_name = 'model_init' + '_' + str(curr_dt_time).replace(' ','').replace(':','_') + '/'\n",
    "    \n",
    "if not os.path.exists(model_name):\n",
    "    os.mkdir(model_name)\n",
    "        \n",
    "filepath = model_name + 'model-{epoch:05d}-{loss:.5f}-{categorical_accuracy:.5f}-{val_loss:.5f}-{val_categorical_accuracy:.5f}.h5'\n",
    "\n",
    "#Updating checkpoint only for best model because of space constraints.\n",
    "checkpoint = ModelCheckpoint(filepath, monitor='val_loss', verbose=1, save_best_only=False, save_weights_only=False, mode='auto', period=1)\n",
    "\n",
    "LR = ReduceLROnPlateau(monitor='val_loss', factor=0.1, patience=2, verbose=1, mode='min', min_delta=0.0001, cooldown=0, min_lr=0.00001) # write the REducelronplateau code here\n",
    "callbacks_list = [checkpoint, LR]\n",
    "#callbacks_list = [LR]"
   ]
  },
  {
   "cell_type": "code",
   "execution_count": 55,
   "metadata": {},
   "outputs": [],
   "source": [
    "if (num_train_sequences%batch_size) == 0:\n",
    "    steps_per_epoch = int(num_train_sequences/batch_size)\n",
    "else:\n",
    "    steps_per_epoch = (num_train_sequences//batch_size) + 1\n",
    "\n",
    "if (num_val_sequences%batch_size) == 0:\n",
    "    validation_steps = int(num_val_sequences/batch_size)\n",
    "else:\n",
    "    validation_steps = (num_val_sequences//batch_size) + 1"
   ]
  },
  {
   "cell_type": "code",
   "execution_count": 56,
   "metadata": {},
   "outputs": [
    {
     "name": "stdout",
     "output_type": "stream",
     "text": [
      "Source path =  Project_data/train ; batch size = 40\n",
      "Epoch 1/35\n",
      "17/17 [==============================] - ETA: 0s - loss: 1.6581 - categorical_accuracy: 0.1956Source path =  Project_data/val ; batch size = 40\n",
      "17/17 [==============================] - 170s 9s/step - loss: 1.6564 - categorical_accuracy: 0.1972 - val_loss: 1.5507 - val_categorical_accuracy: 0.3500\n",
      "\n",
      "Epoch 00001: saving model to model_init_2021-09-1316_28_58.479490/model-00001-1.62785-0.22323-1.55073-0.35000.h5\n",
      "Epoch 2/35\n",
      "17/17 [==============================] - 143s 9s/step - loss: 1.5310 - categorical_accuracy: 0.3242 - val_loss: 1.4833 - val_categorical_accuracy: 0.3800\n",
      "\n",
      "Epoch 00002: saving model to model_init_2021-09-1316_28_58.479490/model-00002-1.51656-0.32881-1.48333-0.38000.h5\n",
      "Epoch 3/35\n",
      "17/17 [==============================] - 139s 9s/step - loss: 1.4048 - categorical_accuracy: 0.4143 - val_loss: 1.3746 - val_categorical_accuracy: 0.4700\n",
      "\n",
      "Epoch 00003: saving model to model_init_2021-09-1316_28_58.479490/model-00003-1.39947-0.39970-1.37464-0.47000.h5\n",
      "Epoch 4/35\n",
      "17/17 [==============================] - 135s 8s/step - loss: 1.3263 - categorical_accuracy: 0.4576 - val_loss: 1.2282 - val_categorical_accuracy: 0.5900\n",
      "\n",
      "Epoch 00004: saving model to model_init_2021-09-1316_28_58.479490/model-00004-1.32544-0.44796-1.22822-0.59000.h5\n",
      "Epoch 5/35\n",
      "17/17 [==============================] - 136s 8s/step - loss: 1.1986 - categorical_accuracy: 0.5273 - val_loss: 1.1569 - val_categorical_accuracy: 0.5800\n",
      "\n",
      "Epoch 00005: saving model to model_init_2021-09-1316_28_58.479490/model-00005-1.18102-0.54148-1.15688-0.58000.h5\n",
      "Epoch 6/35\n",
      "17/17 [==============================] - 131s 8s/step - loss: 1.0934 - categorical_accuracy: 0.5754 - val_loss: 1.0184 - val_categorical_accuracy: 0.6600\n",
      "\n",
      "Epoch 00006: saving model to model_init_2021-09-1316_28_58.479490/model-00006-1.07872-0.56561-1.01836-0.66000.h5\n",
      "Epoch 7/35\n",
      "17/17 [==============================] - 136s 8s/step - loss: 0.9987 - categorical_accuracy: 0.6157 - val_loss: 0.9716 - val_categorical_accuracy: 0.6700\n",
      "\n",
      "Epoch 00007: saving model to model_init_2021-09-1316_28_58.479490/model-00007-0.97907-0.62745-0.97161-0.67000.h5\n",
      "Epoch 8/35\n",
      "17/17 [==============================] - 140s 9s/step - loss: 0.8750 - categorical_accuracy: 0.6803 - val_loss: 0.8817 - val_categorical_accuracy: 0.6200\n",
      "\n",
      "Epoch 00008: saving model to model_init_2021-09-1316_28_58.479490/model-00008-0.87477-0.69382-0.88169-0.62000.h5\n",
      "Epoch 9/35\n",
      "17/17 [==============================] - 135s 8s/step - loss: 0.7970 - categorical_accuracy: 0.7488 - val_loss: 0.8408 - val_categorical_accuracy: 0.6600\n",
      "\n",
      "Epoch 00009: saving model to model_init_2021-09-1316_28_58.479490/model-00009-0.79843-0.75415-0.84079-0.66000.h5\n",
      "Epoch 10/35\n",
      "17/17 [==============================] - 135s 8s/step - loss: 0.7155 - categorical_accuracy: 0.7749 - val_loss: 0.7754 - val_categorical_accuracy: 0.6900\n",
      "\n",
      "Epoch 00010: saving model to model_init_2021-09-1316_28_58.479490/model-00010-0.71872-0.77074-0.77543-0.69000.h5\n",
      "Epoch 11/35\n",
      "17/17 [==============================] - 138s 9s/step - loss: 0.6604 - categorical_accuracy: 0.7671 - val_loss: 0.7862 - val_categorical_accuracy: 0.6600\n",
      "\n",
      "Epoch 00011: saving model to model_init_2021-09-1316_28_58.479490/model-00011-0.63560-0.78733-0.78617-0.66000.h5\n",
      "Epoch 12/35\n",
      "17/17 [==============================] - 136s 8s/step - loss: 0.6161 - categorical_accuracy: 0.7888 - val_loss: 0.6610 - val_categorical_accuracy: 0.7400\n",
      "\n",
      "Epoch 00012: saving model to model_init_2021-09-1316_28_58.479490/model-00012-0.57271-0.82956-0.66104-0.74000.h5\n",
      "Epoch 13/35\n",
      "17/17 [==============================] - 136s 8s/step - loss: 0.5437 - categorical_accuracy: 0.8463 - val_loss: 0.6460 - val_categorical_accuracy: 0.7200\n",
      "\n",
      "Epoch 00013: saving model to model_init_2021-09-1316_28_58.479490/model-00013-0.50880-0.86124-0.64598-0.72000.h5\n",
      "Epoch 14/35\n",
      "17/17 [==============================] - 144s 9s/step - loss: 0.4530 - categorical_accuracy: 0.8838 - val_loss: 0.5820 - val_categorical_accuracy: 0.7300\n",
      "\n",
      "Epoch 00014: saving model to model_init_2021-09-1316_28_58.479490/model-00014-0.45533-0.88084-0.58204-0.73000.h5\n",
      "Epoch 15/35\n",
      "17/17 [==============================] - 147s 9s/step - loss: 0.4344 - categorical_accuracy: 0.8661 - val_loss: 0.5571 - val_categorical_accuracy: 0.7600\n",
      "\n",
      "Epoch 00015: saving model to model_init_2021-09-1316_28_58.479490/model-00015-0.41668-0.88084-0.55709-0.76000.h5\n",
      "Epoch 16/35\n",
      "17/17 [==============================] - 143s 9s/step - loss: 0.3997 - categorical_accuracy: 0.8774 - val_loss: 0.6905 - val_categorical_accuracy: 0.6700\n",
      "\n",
      "Epoch 00016: saving model to model_init_2021-09-1316_28_58.479490/model-00016-0.39275-0.88084-0.69052-0.67000.h5\n",
      "Epoch 17/35\n",
      "17/17 [==============================] - 147s 9s/step - loss: 0.4356 - categorical_accuracy: 0.8549 - val_loss: 0.6470 - val_categorical_accuracy: 0.7200\n",
      "\n",
      "Epoch 00017: saving model to model_init_2021-09-1316_28_58.479490/model-00017-0.42341-0.86275-0.64702-0.72000.h5\n",
      "\n",
      "Epoch 00017: ReduceLROnPlateau reducing learning rate to 0.0009999999776482583.\n",
      "Epoch 18/35\n",
      "17/17 [==============================] - 140s 9s/step - loss: 0.4165 - categorical_accuracy: 0.8711 - val_loss: 0.6140 - val_categorical_accuracy: 0.7600\n",
      "\n",
      "Epoch 00018: saving model to model_init_2021-09-1316_28_58.479490/model-00018-0.40254-0.86576-0.61403-0.76000.h5\n",
      "Epoch 19/35\n",
      "17/17 [==============================] - 142s 9s/step - loss: 0.3327 - categorical_accuracy: 0.9026 - val_loss: 0.5521 - val_categorical_accuracy: 0.7700\n",
      "\n",
      "Epoch 00019: saving model to model_init_2021-09-1316_28_58.479490/model-00019-0.32874-0.91403-0.55210-0.77000.h5\n",
      "Epoch 20/35\n",
      "17/17 [==============================] - 145s 9s/step - loss: 0.3053 - categorical_accuracy: 0.9355 - val_loss: 0.4727 - val_categorical_accuracy: 0.8100\n",
      "\n",
      "Epoch 00020: saving model to model_init_2021-09-1316_28_58.479490/model-00020-0.31352-0.91855-0.47266-0.81000.h5\n",
      "Epoch 21/35\n",
      "17/17 [==============================] - 143s 9s/step - loss: 0.2928 - categorical_accuracy: 0.9277 - val_loss: 0.5488 - val_categorical_accuracy: 0.7500\n",
      "\n",
      "Epoch 00021: saving model to model_init_2021-09-1316_28_58.479490/model-00021-0.29139-0.92911-0.54884-0.75000.h5\n",
      "Epoch 22/35\n",
      "17/17 [==============================] - 143s 9s/step - loss: 0.2706 - categorical_accuracy: 0.9531 - val_loss: 0.5417 - val_categorical_accuracy: 0.7700\n",
      "\n",
      "Epoch 00022: saving model to model_init_2021-09-1316_28_58.479490/model-00022-0.26428-0.94721-0.54166-0.77000.h5\n",
      "\n",
      "Epoch 00022: ReduceLROnPlateau reducing learning rate to 9.999999310821295e-05.\n",
      "Epoch 23/35\n",
      "17/17 [==============================] - 137s 9s/step - loss: 0.2735 - categorical_accuracy: 0.9447 - val_loss: 0.4273 - val_categorical_accuracy: 0.8200\n",
      "\n",
      "Epoch 00023: saving model to model_init_2021-09-1316_28_58.479490/model-00023-0.26712-0.95173-0.42733-0.82000.h5\n",
      "Epoch 24/35\n",
      "17/17 [==============================] - 139s 9s/step - loss: 0.2810 - categorical_accuracy: 0.9443 - val_loss: 0.5449 - val_categorical_accuracy: 0.7500\n",
      "\n",
      "Epoch 00024: saving model to model_init_2021-09-1316_28_58.479490/model-00024-0.27409-0.94721-0.54486-0.75000.h5\n",
      "Epoch 25/35\n",
      "17/17 [==============================] - 138s 9s/step - loss: 0.2655 - categorical_accuracy: 0.9514 - val_loss: 0.5376 - val_categorical_accuracy: 0.7700\n",
      "\n",
      "Epoch 00025: saving model to model_init_2021-09-1316_28_58.479490/model-00025-0.25398-0.95626-0.53755-0.77000.h5\n",
      "\n",
      "Epoch 00025: ReduceLROnPlateau reducing learning rate to 1e-05.\n",
      "Epoch 26/35\n",
      "17/17 [==============================] - 142s 9s/step - loss: 0.2756 - categorical_accuracy: 0.9395 - val_loss: 0.5530 - val_categorical_accuracy: 0.7700\n",
      "\n",
      "Epoch 00026: saving model to model_init_2021-09-1316_28_58.479490/model-00026-0.26878-0.94118-0.55300-0.77000.h5\n",
      "Epoch 27/35\n",
      "17/17 [==============================] - 140s 9s/step - loss: 0.2642 - categorical_accuracy: 0.9614 - val_loss: 0.5982 - val_categorical_accuracy: 0.7300\n",
      "\n",
      "Epoch 00027: saving model to model_init_2021-09-1316_28_58.479490/model-00027-0.27104-0.95023-0.59824-0.73000.h5\n",
      "Epoch 28/35\n",
      "17/17 [==============================] - 137s 8s/step - loss: 0.2863 - categorical_accuracy: 0.9350 - val_loss: 0.5377 - val_categorical_accuracy: 0.7700\n",
      "\n",
      "Epoch 00028: saving model to model_init_2021-09-1316_28_58.479490/model-00028-0.28161-0.93967-0.53772-0.77000.h5\n",
      "Epoch 29/35\n",
      "17/17 [==============================] - 136s 8s/step - loss: 0.2376 - categorical_accuracy: 0.9665 - val_loss: 0.5071 - val_categorical_accuracy: 0.7600\n",
      "\n",
      "Epoch 00029: saving model to model_init_2021-09-1316_28_58.479490/model-00029-0.26135-0.95324-0.50710-0.76000.h5\n",
      "Epoch 30/35\n",
      "17/17 [==============================] - 140s 9s/step - loss: 0.2720 - categorical_accuracy: 0.9518 - val_loss: 0.4909 - val_categorical_accuracy: 0.7900\n",
      "\n",
      "Epoch 00030: saving model to model_init_2021-09-1316_28_58.479490/model-00030-0.27269-0.95023-0.49091-0.79000.h5\n",
      "Epoch 31/35\n",
      "17/17 [==============================] - 136s 8s/step - loss: 0.2596 - categorical_accuracy: 0.9533 - val_loss: 0.5375 - val_categorical_accuracy: 0.7700\n",
      "\n",
      "Epoch 00031: saving model to model_init_2021-09-1316_28_58.479490/model-00031-0.26491-0.94721-0.53748-0.77000.h5\n",
      "Epoch 32/35\n",
      "17/17 [==============================] - 136s 8s/step - loss: 0.2809 - categorical_accuracy: 0.9524 - val_loss: 0.5675 - val_categorical_accuracy: 0.7400\n",
      "\n",
      "Epoch 00032: saving model to model_init_2021-09-1316_28_58.479490/model-00032-0.26692-0.95626-0.56753-0.74000.h5\n",
      "Epoch 33/35\n",
      "17/17 [==============================] - 136s 8s/step - loss: 0.2674 - categorical_accuracy: 0.9300 - val_loss: 0.5634 - val_categorical_accuracy: 0.7800\n",
      "\n",
      "Epoch 00033: saving model to model_init_2021-09-1316_28_58.479490/model-00033-0.26093-0.93816-0.56340-0.78000.h5\n",
      "Epoch 34/35\n",
      "17/17 [==============================] - 135s 8s/step - loss: 0.2580 - categorical_accuracy: 0.9525 - val_loss: 0.5373 - val_categorical_accuracy: 0.7700\n",
      "\n",
      "Epoch 00034: saving model to model_init_2021-09-1316_28_58.479490/model-00034-0.26120-0.94872-0.53727-0.77000.h5\n",
      "Epoch 35/35\n",
      "17/17 [==============================] - 140s 9s/step - loss: 0.2597 - categorical_accuracy: 0.9538 - val_loss: 0.4731 - val_categorical_accuracy: 0.7900\n",
      "\n",
      "Epoch 00035: saving model to model_init_2021-09-1316_28_58.479490/model-00035-0.26114-0.95626-0.47314-0.79000.h5\n"
     ]
    }
   ],
   "source": [
    "#Fitting the model.\n",
    "history = model5.fit_generator(train_generator, steps_per_epoch=steps_per_epoch, epochs=num_epochs, verbose=1, \n",
    "                    callbacks=callbacks_list, validation_data=val_generator, \n",
    "                    validation_steps=validation_steps, class_weight=None, workers=1, initial_epoch=0)"
   ]
  },
  {
   "cell_type": "markdown",
   "metadata": {},
   "source": [
    "### Visualizing training results"
   ]
  },
  {
   "cell_type": "code",
   "execution_count": 57,
   "metadata": {},
   "outputs": [
    {
     "data": {
      "image/png": "[encoded data removed]",
      "text/plain": [
       "<Figure size 576x576 with 2 Axes>"
      ]
     },
     "metadata": {
      "needs_background": "light"
     },
     "output_type": "display_data"
    }
   ],
   "source": [
    "acc = history.history['categorical_accuracy']\n",
    "val_acc = history.history['val_categorical_accuracy']\n",
    "\n",
    "loss = history.history['loss']\n",
    "val_loss = history.history['val_loss']\n",
    "\n",
    "epochs_range = range(num_epochs)\n",
    "\n",
    "plt.figure(figsize=(8, 8))\n",
    "plt.subplot(1, 2, 1)\n",
    "plt.plot(epochs_range, acc, label='Training Accuracy')\n",
    "plt.plot(epochs_range, val_acc, label='Validation Accuracy')\n",
    "plt.legend(loc='lower right')\n",
    "plt.title('Training and Validation Accuracy')\n",
    "\n",
    "plt.subplot(1, 2, 2)\n",
    "plt.plot(epochs_range, loss, label='Training Loss')\n",
    "plt.plot(epochs_range, val_loss, label='Validation Loss')\n",
    "plt.legend(loc='upper right')\n",
    "plt.title('Training and Validation Loss')\n",
    "plt.show()"
   ]
  },
  {
   "cell_type": "markdown",
   "metadata": {},
   "source": [
    "### Conclusion: \n",
    "Model 2 (Conv3D, experiment 8) and Model 5 (ConvGRU, experiment 11) have produced very good accuracy score of around 72% and 82% respectively. But ConvGRU based models have lot more parameters when compared to conv3D based models. And, since the overall objective is to obtain a better performing model with lesser number of parameters conv3D model can be used for final model evaluation.\n",
    "\n",
    "Use Model 2(Conv3D) architecture with corresponding .h5 file for final test evaluation.\n",
    "\n",
    "Further accuracy of the model can be improved using data augmentation technique."
   ]
  },
  {
   "cell_type": "code",
   "execution_count": null,
   "metadata": {},
   "outputs": [],
   "source": []
  }
 ],
 "metadata": {
  "kernelspec": {
   "display_name": "Python 3",
   "language": "python",
   "name": "python3"
  },
  "language_info": {
   "codemirror_mode": {
    "name": "ipython",
    "version": 3
   },
   "file_extension": ".py",
   "mimetype": "text/x-python",
   "name": "python",
   "nbconvert_exporter": "python",
   "pygments_lexer": "ipython3",
   "version": "3.8.8"
  }
 },
 "nbformat": 4,
 "nbformat_minor": 2
}
